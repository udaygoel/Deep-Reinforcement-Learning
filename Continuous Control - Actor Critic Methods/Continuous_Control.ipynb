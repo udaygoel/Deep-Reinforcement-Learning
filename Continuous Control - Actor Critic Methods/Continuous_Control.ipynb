{
 "cells": [
  {
   "cell_type": "markdown",
   "metadata": {},
   "source": [
    "# Continuous Control\n",
    "\n",
    "---\n",
    "\n",
    "You are welcome to use this coding environment to train your agent for the project.  Follow the instructions below to get started!\n",
    "\n",
    "### 1. Start the Environment\n",
    "\n",
    "Run the next code cell to install a few packages.  This line will take a few minutes to run!"
   ]
  },
  {
   "cell_type": "code",
   "execution_count": 1,
   "metadata": {},
   "outputs": [
    {
     "name": "stdout",
     "output_type": "stream",
     "text": [
      "\u001b[31mtensorflow 1.7.1 has requirement numpy>=1.13.3, but you'll have numpy 1.12.1 which is incompatible.\u001b[0m\r\n",
      "\u001b[31mipython 6.5.0 has requirement prompt-toolkit<2.0.0,>=1.0.15, but you'll have prompt-toolkit 3.0.8 which is incompatible.\u001b[0m\r\n"
     ]
    }
   ],
   "source": [
    "!pip -q install ./python"
   ]
  },
  {
   "cell_type": "markdown",
   "metadata": {},
   "source": [
    "The environments corresponding to both versions of the environment are already saved in the Workspace and can be accessed at the file paths provided below.  \n",
    "\n",
    "Please select one of the two options below for loading the environment."
   ]
  },
  {
   "cell_type": "code",
   "execution_count": 2,
   "metadata": {},
   "outputs": [
    {
     "name": "stderr",
     "output_type": "stream",
     "text": [
      "INFO:unityagents:\n",
      "'Academy' started successfully!\n",
      "Unity Academy name: Academy\n",
      "        Number of Brains: 1\n",
      "        Number of External Brains : 1\n",
      "        Lesson number : 0\n",
      "        Reset Parameters :\n",
      "\t\tgoal_speed -> 1.0\n",
      "\t\tgoal_size -> 5.0\n",
      "Unity brain name: ReacherBrain\n",
      "        Number of Visual Observations (per agent): 0\n",
      "        Vector Observation space type: continuous\n",
      "        Vector Observation space size (per agent): 33\n",
      "        Number of stacked Vector Observation: 1\n",
      "        Vector Action space type: continuous\n",
      "        Vector Action space size (per agent): 4\n",
      "        Vector Action descriptions: , , , \n"
     ]
    }
   ],
   "source": [
    "from unityagents import UnityEnvironment\n",
    "import numpy as np\n",
    "\n",
    "# select this option to load version 1 (with a single agent) of the environment\n",
    "#env = UnityEnvironment(file_name='/data/Reacher_One_Linux_NoVis/Reacher_One_Linux_NoVis.x86_64')\n",
    "\n",
    "# select this option to load version 2 (with 20 agents) of the environment\n",
    "env = UnityEnvironment(file_name='/data/Reacher_Linux_NoVis/Reacher.x86_64')"
   ]
  },
  {
   "cell_type": "markdown",
   "metadata": {},
   "source": [
    "Environments contain **_brains_** which are responsible for deciding the actions of their associated agents. Here we check for the first brain available, and set it as the default brain we will be controlling from Python."
   ]
  },
  {
   "cell_type": "code",
   "execution_count": 3,
   "metadata": {},
   "outputs": [],
   "source": [
    "# get the default brain\n",
    "brain_name = env.brain_names[0]\n",
    "brain = env.brains[brain_name]"
   ]
  },
  {
   "cell_type": "markdown",
   "metadata": {},
   "source": [
    "### 2. Examine the State and Action Spaces\n",
    "\n",
    "Run the code cell below to print some information about the environment."
   ]
  },
  {
   "cell_type": "code",
   "execution_count": 4,
   "metadata": {},
   "outputs": [
    {
     "name": "stdout",
     "output_type": "stream",
     "text": [
      "Number of agents: 20\n",
      "Size of each action: 4\n",
      "There are 20 agents. Each observes a state with length: 33\n",
      "The state for the first agent looks like: [  0.00000000e+00  -4.00000000e+00   0.00000000e+00   1.00000000e+00\n",
      "  -0.00000000e+00  -0.00000000e+00  -4.37113883e-08   0.00000000e+00\n",
      "   0.00000000e+00   0.00000000e+00   0.00000000e+00   0.00000000e+00\n",
      "   0.00000000e+00   0.00000000e+00  -1.00000000e+01   0.00000000e+00\n",
      "   1.00000000e+00  -0.00000000e+00  -0.00000000e+00  -4.37113883e-08\n",
      "   0.00000000e+00   0.00000000e+00   0.00000000e+00   0.00000000e+00\n",
      "   0.00000000e+00   0.00000000e+00   5.75471878e+00  -1.00000000e+00\n",
      "   5.55726624e+00   0.00000000e+00   1.00000000e+00   0.00000000e+00\n",
      "  -1.68164849e-01]\n"
     ]
    }
   ],
   "source": [
    "# reset the environment\n",
    "env_info = env.reset(train_mode=True)[brain_name]\n",
    "\n",
    "# number of agents\n",
    "num_agents = len(env_info.agents)\n",
    "print('Number of agents:', num_agents)\n",
    "\n",
    "# size of each action\n",
    "action_size = brain.vector_action_space_size\n",
    "print('Size of each action:', action_size)\n",
    "\n",
    "# examine the state space \n",
    "states = env_info.vector_observations\n",
    "state_size = states.shape[1]\n",
    "print('There are {} agents. Each observes a state with length: {}'.format(states.shape[0], state_size))\n",
    "print('The state for the first agent looks like:', states[0])"
   ]
  },
  {
   "cell_type": "markdown",
   "metadata": {},
   "source": [
    "### 3. Take Random Actions in the Environment\n",
    "\n",
    "In the next code cell, you will learn how to use the Python API to control the agent and receive feedback from the environment.\n",
    "\n",
    "Note that **in this coding environment, you will not be able to watch the agents while they are training**, and you should set `train_mode=True` to restart the environment."
   ]
  },
  {
   "cell_type": "code",
   "execution_count": 5,
   "metadata": {},
   "outputs": [
    {
     "name": "stdout",
     "output_type": "stream",
     "text": [
      "Total score (averaged over agents) this episode: 0.08099999818950891\n"
     ]
    }
   ],
   "source": [
    "env_info = env.reset(train_mode=True)[brain_name]      # reset the environment    \n",
    "states = env_info.vector_observations                  # get the current state (for each agent)\n",
    "scores = np.zeros(num_agents)                          # initialize the score (for each agent)\n",
    "while True:\n",
    "    actions = np.random.randn(num_agents, action_size) # select an action (for each agent)\n",
    "    actions = np.clip(actions, -1, 1)                  # all actions between -1 and 1\n",
    "    env_info = env.step(actions)[brain_name]           # send all actions to tne environment\n",
    "    next_states = env_info.vector_observations         # get next state (for each agent)\n",
    "    rewards = env_info.rewards                         # get reward (for each agent)\n",
    "    dones = env_info.local_done                        # see if episode finished\n",
    "    scores += env_info.rewards                         # update the score (for each agent)\n",
    "    states = next_states                               # roll over states to next time step\n",
    "    if np.any(dones):                                  # exit loop if episode finished\n",
    "        break\n",
    "print('Total score (averaged over agents) this episode: {}'.format(np.mean(scores)))"
   ]
  },
  {
   "cell_type": "markdown",
   "metadata": {},
   "source": [
    "When finished, you can close the environment."
   ]
  },
  {
   "cell_type": "code",
   "execution_count": 6,
   "metadata": {},
   "outputs": [],
   "source": [
    "#env.close()"
   ]
  },
  {
   "cell_type": "markdown",
   "metadata": {},
   "source": [
    "### 4. It's Your Turn!\n",
    "\n",
    "Now it's your turn to train your own agent to solve the environment!  A few **important notes**:\n",
    "- When training the environment, set `train_mode=True`, so that the line for resetting the environment looks like the following:\n",
    "```python\n",
    "env_info = env.reset(train_mode=True)[brain_name]\n",
    "```\n",
    "- To structure your work, you're welcome to work directly in this Jupyter notebook, or you might like to start over with a new file!  You can see the list of files in the workspace by clicking on **_Jupyter_** in the top left corner of the notebook.\n",
    "- In this coding environment, you will not be able to watch the agents while they are training.  However, **_after training the agents_**, you can download the saved model weights to watch the agents on your own machine! "
   ]
  },
  {
   "cell_type": "markdown",
   "metadata": {},
   "source": [
    "### 5. Instantiate the Environment and Agent"
   ]
  },
  {
   "cell_type": "code",
   "execution_count": 7,
   "metadata": {},
   "outputs": [],
   "source": [
    "from ddpg_agent import Agent\n",
    "\n",
    "env_info = env.reset(train_mode=True)[brain_name]\n",
    "agent = Agent(state_size=state_size, action_size=action_size, random_seed=2, num_agents=num_agents)\n"
   ]
  },
  {
   "cell_type": "markdown",
   "metadata": {},
   "source": [
    "### 6. Train the Agent with DDPG"
   ]
  },
  {
   "cell_type": "code",
   "execution_count": 8,
   "metadata": {},
   "outputs": [],
   "source": [
    "import torch\n",
    "from collections import deque\n",
    "import matplotlib.pyplot as plt\n",
    "%matplotlib inline\n",
    "\n",
    "from workspace_utils import active_session   # keep session active"
   ]
  },
  {
   "cell_type": "code",
   "execution_count": 9,
   "metadata": {},
   "outputs": [],
   "source": [
    "import time"
   ]
  },
  {
   "cell_type": "code",
   "execution_count": 10,
   "metadata": {},
   "outputs": [],
   "source": [
    "def ddpg(n_episodes=1000, max_t=1000, print_every=100, reset_time = 100):\n",
    "    scores_deque = deque(maxlen=print_every)\n",
    "    scores = []\n",
    "    \n",
    "    for i_episode in range(1, n_episodes+1):\n",
    "        env_info = env.reset(train_mode=True)[brain_name]\n",
    "        states = env_info.vector_observations\n",
    "        agent.reset()\n",
    "        scores_i_episode = np.zeros(num_agents)\n",
    "        for t in range(max_t):\n",
    "            action = agent.act(states)\n",
    "            env_info = env.step(actions)[brain_name]           # send all actions to tne environment\n",
    "            next_states = env_info.vector_observations         # get next state (for each agent)\n",
    "            rewards = env_info.rewards                         # get reward (for each agent)\n",
    "            dones = env_info.local_done \n",
    "            scores_i_episode += env_info.rewards\n",
    "            \n",
    "            agent.step(states, action, rewards, next_states, dones)\n",
    "            \n",
    "            states = next_states\n",
    "            \n",
    "            if np.any(dones):\n",
    "                break\n",
    "            \"\"\"\n",
    "            print('state: ')\n",
    "            print (states)\n",
    "            print('action: ')\n",
    "            print(action)\n",
    "            print('reward: ')\n",
    "            print(rewards)\n",
    "            print('next states: ')\n",
    "            print(next_states)\n",
    "            print('dones: ')\n",
    "            print(dones)\n",
    "            print('score: ')\n",
    "            print(scores_i_episode)\n",
    "            return\n",
    "            \"\"\"\n",
    "        \n",
    "        scores_deque.append(scores_i_episode)\n",
    "        scores.append(scores_i_episode)\n",
    "        \n",
    "        print('\\rEpisode {}\\tAverage Score: {:.2f}'.format(i_episode, np.mean(scores_deque)), end=\"\")\n",
    "        \n",
    "        torch.save(agent.actor_local.state_dict(), 'checkpoint_actor.pth')\n",
    "        torch.save(agent.critic_local.state_dict(), 'checkpoint_critic.pth')\n",
    "        \n",
    "        if i_episode % print_every == 0:\n",
    "            print('\\rEpisode {}\\tAverage Score: {:.2f}'.format(i_episode, np.mean(scores_deque)))\n",
    "    \n",
    "        if np.mean(scores_deque) >= 30.0:\n",
    "            print('\\nEnvironment solved in {:d} episodes!\\tAverage Score: {:2f}'.format(i_episode-print_every,\n",
    "                                                                                       np.mean(scores_deque)))\n",
    "            break\n",
    "            \n",
    "    return scores\n",
    "        \n",
    "    "
   ]
  },
  {
   "cell_type": "code",
   "execution_count": 11,
   "metadata": {},
   "outputs": [
    {
     "name": "stdout",
     "output_type": "stream",
     "text": [
      "Episode 100\tAverage Score: 0.28\n"
     ]
    }
   ],
   "source": [
    "start = time.time()\n",
    "with active_session():\n",
    "    scores = ddpg(n_episodes= 100)\n",
    "end = time.time()"
   ]
  },
  {
   "cell_type": "code",
   "execution_count": 12,
   "metadata": {},
   "outputs": [
    {
     "name": "stdout",
     "output_type": "stream",
     "text": [
      "Time taken: 1453.1799454689026 seconds\n"
     ]
    }
   ],
   "source": [
    "print('Time taken: {} seconds'.format(end-start))"
   ]
  },
  {
   "cell_type": "code",
   "execution_count": 15,
   "metadata": {},
   "outputs": [
    {
     "data": {
      "image/png": "[encoded data removed]",
      "text/plain": [
       "<matplotlib.figure.Figure at 0x7f4402def160>"
      ]
     },
     "metadata": {
      "needs_background": "light"
     },
     "output_type": "display_data"
    }
   ],
   "source": [
    "fig = plt.figure()\n",
    "ax = fig.add_subplot(111)\n",
    "plt.plot(np.arange(1, len(scores)+1), scores)\n",
    "plt.ylabel('Score')\n",
    "plt.xlabel('Episode #')\n",
    "plt.show()"
   ]
  },
  {
   "cell_type": "code",
   "execution_count": 37,
   "metadata": {},
   "outputs": [],
   "source": [
    "import importlib, sys"
   ]
  },
  {
   "cell_type": "code",
   "execution_count": 90,
   "metadata": {},
   "outputs": [
    {
     "data": {
      "text/plain": [
       "<module 'ddpg_agent' from '/home/workspace/ddpg_agent.py'>"
      ]
     },
     "execution_count": 90,
     "metadata": {},
     "output_type": "execute_result"
    }
   ],
   "source": [
    "importlib.reload(sys.modules['ddpg_agent'])"
   ]
  },
  {
   "cell_type": "code",
   "execution_count": 17,
   "metadata": {},
   "outputs": [],
   "source": [
    "from ddpg_agent import Agent"
   ]
  },
  {
   "cell_type": "code",
   "execution_count": 42,
   "metadata": {},
   "outputs": [
    {
     "data": {
      "text/plain": [
       "array([[ 0.73255096,  0.43846769,  0.75819139,  0.80773725,  0.90135646,\n",
       "         0.0359623 ,  0.5779791 ,  0.24074225,  0.90817998,  0.59696793,\n",
       "         0.28862772,  0.37634764,  0.6794074 ,  0.84633664,  0.56012742,\n",
       "         0.88460854,  0.84324734,  0.10929199,  0.39062542,  0.60121623,\n",
       "         0.32890246,  0.39871749,  0.81915512,  0.33906458,  0.07516909,\n",
       "         0.10311528,  0.93093464,  0.92343056,  0.21329368,  0.90310197,\n",
       "         0.52245383,  0.89383542,  0.37677096]])"
      ]
     },
     "execution_count": 42,
     "metadata": {},
     "output_type": "execute_result"
    }
   ],
   "source": [
    "np.random.random_sample(size=states.shape)"
   ]
  },
  {
   "cell_type": "code",
   "execution_count": 46,
   "metadata": {},
   "outputs": [
    {
     "data": {
      "text/plain": [
       "array([[-0.09706789, -0.51749545,  1.        , -0.37025362]], dtype=float32)"
      ]
     },
     "execution_count": 46,
     "metadata": {},
     "output_type": "execute_result"
    }
   ],
   "source": [
    "env_info = env.reset(train_mode=True)[brain_name]\n",
    "states = env_info.vector_observations\n",
    "action = agent.act(states)\n",
    "action"
   ]
  },
  {
   "cell_type": "code",
   "execution_count": 48,
   "metadata": {},
   "outputs": [
    {
     "data": {
      "text/plain": [
       "array([ 0.67758356,  0.49316193,  0.66380019,  0.65766038])"
      ]
     },
     "execution_count": 48,
     "metadata": {},
     "output_type": "execute_result"
    }
   ],
   "source": [
    "ns = agent.noise.sample()\n",
    "ns"
   ]
  },
  {
   "cell_type": "code",
   "execution_count": 51,
   "metadata": {},
   "outputs": [
    {
     "data": {
      "text/plain": [
       "array([[ 0.67758356,  0.49316193,  0.66380019,  0.65766038]])"
      ]
     },
     "execution_count": 51,
     "metadata": {},
     "output_type": "execute_result"
    }
   ],
   "source": [
    "ns.reshape((1,-1))"
   ]
  },
  {
   "cell_type": "code",
   "execution_count": 50,
   "metadata": {},
   "outputs": [
    {
     "data": {
      "text/plain": [
       "array([[ 0.58051567, -0.02433352,  1.66380019,  0.28740676]])"
      ]
     },
     "execution_count": 50,
     "metadata": {},
     "output_type": "execute_result"
    }
   ],
   "source": [
    "action + ns.reshape((1,-1))"
   ]
  },
  {
   "cell_type": "code",
   "execution_count": 52,
   "metadata": {},
   "outputs": [
    {
     "data": {
      "text/plain": [
       "[0.0]"
      ]
     },
     "execution_count": 52,
     "metadata": {},
     "output_type": "execute_result"
    }
   ],
   "source": [
    "env_info = env.step(actions)[brain_name]\n",
    "rewards = env_info.rewards\n",
    "rewards"
   ]
  },
  {
   "cell_type": "code",
   "execution_count": 53,
   "metadata": {},
   "outputs": [
    {
     "data": {
      "text/plain": [
       "list"
      ]
     },
     "execution_count": 53,
     "metadata": {},
     "output_type": "execute_result"
    }
   ],
   "source": [
    "type(rewards)"
   ]
  },
  {
   "cell_type": "code",
   "execution_count": 59,
   "metadata": {},
   "outputs": [
    {
     "data": {
      "text/plain": [
       "array([-0.09706789, -0.51749545,  1.        , -0.37025362], dtype=float32)"
      ]
     },
     "execution_count": 59,
     "metadata": {},
     "output_type": "execute_result"
    }
   ],
   "source": [
    "np.stack(action[0], axis=-1)"
   ]
  },
  {
   "cell_type": "code",
   "execution_count": 60,
   "metadata": {},
   "outputs": [
    {
     "data": {
      "text/plain": [
       "array([[-0.09706789, -0.51749545,  1.        , -0.37025362]], dtype=float32)"
      ]
     },
     "execution_count": 60,
     "metadata": {},
     "output_type": "execute_result"
    }
   ],
   "source": [
    "action[0].reshape(1,-1)"
   ]
  },
  {
   "cell_type": "code",
   "execution_count": 13,
   "metadata": {},
   "outputs": [
    {
     "data": {
      "text/plain": [
       "Experience(state=array([  0.00000000e+00,  -4.00000000e+00,   0.00000000e+00,\n",
       "         1.00000000e+00,  -0.00000000e+00,  -0.00000000e+00,\n",
       "        -4.37113883e-08,   0.00000000e+00,   0.00000000e+00,\n",
       "         0.00000000e+00,   0.00000000e+00,   0.00000000e+00,\n",
       "         0.00000000e+00,   0.00000000e+00,  -1.00000000e+01,\n",
       "         0.00000000e+00,   1.00000000e+00,  -0.00000000e+00,\n",
       "        -0.00000000e+00,  -4.37113883e-08,   0.00000000e+00,\n",
       "         0.00000000e+00,   0.00000000e+00,   0.00000000e+00,\n",
       "         0.00000000e+00,   0.00000000e+00,  -6.70936584e+00,\n",
       "        -1.00000000e+00,  -4.35711288e+00,   0.00000000e+00,\n",
       "         1.00000000e+00,   0.00000000e+00,   9.06391859e-01]), action=array([ 0.0461717 ,  0.03624426,  0.04595   ,  0.15924717], dtype=float32), reward=0.0, next_state=array([  3.51715088e-02,  -3.99987030e+00,  -1.09481812e-03,\n",
       "         9.99990463e-01,   4.37490782e-03,   5.01915054e-07,\n",
       "        -1.36287053e-04,   5.39927278e-03,  -2.86922514e-05,\n",
       "         1.74479082e-01,   7.01398611e-01,   3.69290332e-03,\n",
       "        -2.17042360e-02,   2.75993347e-02,  -9.99962521e+00,\n",
       "         4.44793701e-03,   9.99983549e-01,  -5.63658401e-03,\n",
       "         1.37843581e-05,   1.06008397e-03,  -4.23066802e-02,\n",
       "        -7.89707934e-04,  -2.24590719e-01,   2.24389970e-01,\n",
       "         1.34744076e-02,   1.50528908e-01,  -6.97145844e+00,\n",
       "        -1.00000000e+00,  -3.92412186e+00,   0.00000000e+00,\n",
       "         1.00000000e+00,   0.00000000e+00,   9.06391859e-01]), done=False)"
      ]
     },
     "execution_count": 13,
     "metadata": {},
     "output_type": "execute_result"
    }
   ],
   "source": [
    "agent.memory.memory[0]"
   ]
  },
  {
   "cell_type": "code",
   "execution_count": 13,
   "metadata": {},
   "outputs": [
    {
     "data": {
      "text/plain": [
       "[array([ 0.33999999,  1.52999997,  0.        ,  0.        ,  0.        ,\n",
       "         0.        ,  0.1       ,  1.10999998,  0.34999999,  0.        ,\n",
       "         0.24999999,  0.83999998,  0.30999999,  0.2       ,  0.82999998,\n",
       "         0.30999999,  0.64999999,  0.65999999,  0.85999998,  0.15      ]),\n",
       " array([ 0.1       ,  1.28999997,  0.        ,  0.13      ,  1.17999997,\n",
       "         0.2       ,  0.        ,  1.06999998,  0.21      ,  0.        ,\n",
       "         0.31999999,  0.64999999,  0.08      ,  0.33999999,  0.87999998,\n",
       "         0.30999999,  0.87999998,  0.        ,  0.31999999,  0.12      ]),\n",
       " array([ 0.19      ,  0.59999999,  0.        ,  0.        ,  0.14      ,\n",
       "         0.22999999,  0.        ,  0.35999999,  1.01999998,  0.        ,\n",
       "         0.32999999,  1.17999997,  0.72999998,  0.05      ,  0.74999998,\n",
       "         0.16      ,  1.24999997,  0.37999999,  0.39999999,  0.42999999]),\n",
       " array([ 0.        ,  1.43999997,  0.        ,  0.22      ,  0.21      ,\n",
       "         0.03      ,  0.        ,  0.40999999,  0.73999998,  0.        ,\n",
       "         0.49999999,  0.07      ,  0.38999999,  0.        ,  1.19999997,\n",
       "         0.27999999,  0.37999999,  0.79999998,  0.94999998,  0.52999999]),\n",
       " array([ 0.37999999,  1.28999997,  0.        ,  0.26999999,  0.30999999,\n",
       "         0.23999999,  0.        ,  0.64999999,  0.81999998,  0.        ,\n",
       "         0.27999999,  0.80999998,  1.04999998,  0.        ,  0.64999999,\n",
       "         0.1       ,  1.90999996,  0.57999999,  1.26999997,  0.14      ]),\n",
       " array([ 0.09      ,  1.28999997,  0.05      ,  0.17      ,  0.35999999,\n",
       "         0.07      ,  0.        ,  0.26999999,  0.60999999,  0.        ,\n",
       "         0.2       ,  1.42999997,  0.2       ,  0.        ,  0.79999998,\n",
       "         0.28999999,  1.06999998,  0.61999999,  0.64999999,  0.48999999]),\n",
       " array([ 0.21      ,  0.79999998,  0.        ,  0.        ,  0.75999998,\n",
       "         0.08      ,  0.        ,  0.95999998,  0.72999998,  0.        ,\n",
       "         0.60999999,  0.13      ,  0.15      ,  0.        ,  1.86999996,\n",
       "         0.54999999,  0.23999999,  0.48999999,  0.30999999,  0.14      ]),\n",
       " array([ 0.21      ,  0.22      ,  0.        ,  0.        ,  0.        ,\n",
       "         0.        ,  0.        ,  0.43999999,  1.21999997,  0.        ,\n",
       "         0.42999999,  0.18      ,  1.14999997,  0.        ,  0.48999999,\n",
       "         0.28999999,  0.02      ,  0.90999998,  0.43999999,  0.        ]),\n",
       " array([ 0.06      ,  0.97999998,  0.15      ,  0.        ,  0.06      ,\n",
       "         0.16      ,  0.        ,  0.        ,  0.89999998,  0.12      ,\n",
       "         0.        ,  0.21      ,  0.71999998,  0.        ,  1.02999998,\n",
       "         0.38999999,  0.14      ,  0.72999998,  0.97999998,  0.42999999]),\n",
       " array([ 0.        ,  1.70999996,  0.11      ,  0.        ,  0.63999999,\n",
       "         0.        ,  0.04      ,  0.59999999,  0.18      ,  0.        ,\n",
       "         0.38999999,  0.36999999,  1.41999997,  0.        ,  0.73999998,\n",
       "         0.11      ,  0.55999999,  0.61999999,  0.53999999,  0.29999999]),\n",
       " array([ 0.12      ,  1.23999997,  0.27999999,  0.        ,  0.74999998,\n",
       "         0.11      ,  0.        ,  0.93999998,  0.93999998,  0.        ,\n",
       "         0.76999998,  1.07999998,  0.82999998,  0.13      ,  0.96999998,\n",
       "         0.33999999,  1.31999997,  0.30999999,  1.34999997,  0.22      ]),\n",
       " array([ 0.07      ,  0.04      ,  0.17      ,  0.38999999,  0.        ,\n",
       "         0.        ,  0.        ,  0.24999999,  0.        ,  0.14      ,\n",
       "         0.80999998,  1.05999998,  0.30999999,  0.        ,  0.16      ,\n",
       "         0.32999999,  0.67999998,  1.22999997,  0.30999999,  0.25999999]),\n",
       " array([ 0.16      ,  0.81999998,  0.        ,  0.        ,  0.46999999,\n",
       "         0.11      ,  0.        ,  0.45999999,  0.22999999,  0.        ,\n",
       "         0.46999999,  0.        ,  0.52999999,  0.        ,  1.13999997,\n",
       "         0.13      ,  1.00999998,  1.58999996,  1.43999997,  0.        ]),\n",
       " array([ 0.26999999,  0.89999998,  0.        ,  0.17      ,  0.22      ,\n",
       "         0.2       ,  0.        ,  0.45999999,  0.48999999,  0.        ,\n",
       "         0.60999999,  0.76999998,  1.07999998,  0.        ,  0.65999999,\n",
       "         0.41999999,  0.53999999,  1.30999997,  0.27999999,  0.32999999]),\n",
       " array([ 0.2       ,  0.37999999,  0.        ,  0.04      ,  0.02      ,\n",
       "         0.1       ,  0.        ,  0.80999998,  0.93999998,  0.        ,\n",
       "         0.37999999,  0.63999999,  0.32999999,  0.        ,  0.47999999,\n",
       "         0.32999999,  1.14999997,  1.10999998,  0.35999999,  0.27999999]),\n",
       " array([ 0.        ,  0.57999999,  0.17      ,  0.35999999,  0.83999998,\n",
       "         0.        ,  0.07      ,  0.61999999,  1.02999998,  0.        ,\n",
       "         0.49999999,  0.82999998,  1.07999998,  0.31999999,  0.51999999,\n",
       "         0.32999999,  0.        ,  0.81999998,  0.79999998,  0.14      ]),\n",
       " array([ 0.18      ,  1.30999997,  0.        ,  0.        ,  0.37999999,\n",
       "         0.        ,  0.        ,  0.32999999,  0.66999999,  0.        ,\n",
       "         0.17      ,  0.29999999,  0.21      ,  0.        ,  0.18      ,\n",
       "         0.38999999,  1.18999997,  1.75999996,  0.79999998,  0.        ]),\n",
       " array([ 0.        ,  0.80999998,  0.        ,  0.1       ,  0.74999998,\n",
       "         0.1       ,  0.        ,  0.54999999,  0.14      ,  0.        ,\n",
       "         0.55999999,  1.17999997,  1.15999997,  0.        ,  0.17      ,\n",
       "         0.85999998,  0.16      ,  1.58999996,  0.13      ,  0.        ]),\n",
       " array([ 0.1       ,  0.69999998,  0.14      ,  0.27999999,  0.        ,\n",
       "         0.08      ,  0.        ,  0.33999999,  0.57999999,  0.13      ,\n",
       "         0.15      ,  0.84999998,  0.65999999,  0.        ,  1.34999997,\n",
       "         0.12      ,  0.        ,  0.92999998,  0.65999999,  0.11      ]),\n",
       " array([ 0.06      ,  1.28999997,  0.15      ,  0.        ,  1.09999998,\n",
       "         0.        ,  0.11      ,  0.90999998,  0.44999999,  0.        ,\n",
       "         0.15      ,  0.76999998,  0.08      ,  0.        ,  0.47999999,\n",
       "         0.25999999,  0.95999998,  0.66999999,  0.80999998,  0.01      ]),\n",
       " array([ 0.1       ,  0.41999999,  0.        ,  0.        ,  1.16999997,\n",
       "         0.        ,  0.        ,  0.43999999,  0.66999999,  0.        ,\n",
       "         0.32999999,  1.01999998,  0.54999999,  0.        ,  0.87999998,\n",
       "         0.1       ,  0.        ,  1.37999997,  1.20999997,  0.22999999]),\n",
       " array([ 0.04      ,  1.49999997,  0.05      ,  0.11      ,  1.10999998,\n",
       "         0.        ,  0.        ,  0.43999999,  0.69999998,  0.        ,\n",
       "         0.47999999,  1.41999997,  0.60999999,  0.        ,  0.40999999,\n",
       "         0.1       ,  0.56999999,  0.41999999,  1.01999998,  0.13      ]),\n",
       " array([ 0.        ,  0.62999999,  0.        ,  0.42999999,  0.76999998,\n",
       "         0.        ,  0.        ,  0.28999999,  0.56999999,  0.        ,\n",
       "         0.35999999,  0.25999999,  0.71999998,  0.22999999,  1.31999997,\n",
       "         0.41999999,  0.        ,  0.47999999,  0.85999998,  0.        ]),\n",
       " array([ 0.24999999,  0.51999999,  0.07      ,  0.        ,  0.22      ,\n",
       "         0.        ,  0.        ,  0.16      ,  0.43999999,  0.14      ,\n",
       "         0.60999999,  1.69999996,  1.10999998,  0.        ,  0.24999999,\n",
       "         0.32999999,  0.94999998,  2.25999995,  0.89999998,  0.35999999]),\n",
       " array([ 0.        ,  0.59999999,  0.08      ,  0.        ,  0.2       ,\n",
       "         0.12      ,  0.        ,  0.86999998,  0.71999998,  0.        ,\n",
       "         0.39999999,  1.08999998,  0.99999998,  0.        ,  0.40999999,\n",
       "         0.32999999,  0.90999998,  1.26999997,  0.54999999,  0.27999999]),\n",
       " array([ 0.07      ,  1.09999998,  0.        ,  0.1       ,  0.58999999,\n",
       "         0.18      ,  0.        ,  0.36999999,  0.43999999,  0.        ,\n",
       "         0.08      ,  0.42999999,  0.28999999,  0.        ,  0.15      ,\n",
       "         0.37999999,  0.45999999,  1.18999997,  0.41999999,  0.16      ]),\n",
       " array([ 0.08      ,  0.83999998,  0.        ,  0.1       ,  0.06      ,\n",
       "         0.        ,  0.        ,  1.28999997,  0.56999999,  0.        ,\n",
       "         0.49999999,  0.42999999,  0.81999998,  0.        ,  0.40999999,\n",
       "         0.22999999,  0.        ,  1.12999997,  0.83999998,  0.        ]),\n",
       " array([ 0.07      ,  0.14      ,  0.        ,  0.09      ,  0.        ,\n",
       "         0.        ,  0.        ,  0.67999998,  0.06      ,  0.        ,\n",
       "         0.2       ,  0.68999998,  0.94999998,  0.        ,  0.75999998,\n",
       "         0.28999999,  0.22      ,  1.10999998,  1.18999997,  0.27999999]),\n",
       " array([ 0.13      ,  0.35999999,  0.        ,  0.        ,  0.75999998,\n",
       "         0.        ,  0.        ,  1.26999997,  0.76999998,  0.        ,\n",
       "         0.28999999,  0.54999999,  0.44999999,  0.        ,  0.91999998,\n",
       "         0.29999999,  1.13999997,  1.09999998,  1.03999998,  0.08      ]),\n",
       " array([ 0.14      ,  0.51999999,  0.        ,  0.        ,  0.29999999,\n",
       "         0.28999999,  0.        ,  0.63999999,  0.        ,  0.07      ,\n",
       "         0.44999999,  0.14      ,  0.79999998,  0.14      ,  0.70999998,\n",
       "         0.        ,  0.40999999,  1.22999997,  0.89999998,  0.        ]),\n",
       " array([ 0.19      ,  0.32999999,  0.        ,  1.25999997,  0.2       ,\n",
       "         0.09      ,  0.02      ,  0.86999998,  0.37999999,  0.        ,\n",
       "         0.22      ,  0.61999999,  1.48999997,  0.        ,  0.53999999,\n",
       "         0.34999999,  0.11      ,  0.53999999,  0.88999998,  0.        ]),\n",
       " array([ 0.16      ,  0.65999999,  0.        ,  0.        ,  0.08      ,\n",
       "         0.        ,  0.        ,  0.60999999,  0.93999998,  0.        ,\n",
       "         0.33999999,  1.02999998,  0.51999999,  0.        ,  0.66999999,\n",
       "         0.        ,  1.30999997,  1.01999998,  1.04999998,  0.24999999]),\n",
       " array([ 0.28999999,  0.18      ,  0.        ,  0.07      ,  0.        ,\n",
       "         0.18      ,  0.        ,  0.85999998,  0.21      ,  0.02      ,\n",
       "         0.23999999,  0.65999999,  0.81999998,  0.29999999,  0.70999998,\n",
       "         0.22      ,  0.55999999,  0.21      ,  1.20999997,  0.        ]),\n",
       " array([ 0.24999999,  0.51999999,  0.        ,  0.        ,  0.        ,\n",
       "         0.        ,  0.        ,  0.55999999,  0.61999999,  0.        ,\n",
       "         0.50999999,  1.18999997,  0.40999999,  0.        ,  0.42999999,\n",
       "         0.21      ,  0.21      ,  0.69999998,  1.39999997,  0.14      ]),\n",
       " array([ 0.08      ,  0.70999998,  0.        ,  0.        ,  0.        ,\n",
       "         0.21      ,  0.        ,  0.62999999,  0.77999998,  0.        ,\n",
       "         0.07      ,  0.23999999,  1.79999996,  0.        ,  0.58999999,\n",
       "         0.        ,  0.        ,  0.89999998,  1.06999998,  0.23999999]),\n",
       " array([ 0.21      ,  0.61999999,  0.        ,  0.30999999,  0.67999998,\n",
       "         0.        ,  0.11      ,  1.16999997,  0.13      ,  0.        ,\n",
       "         0.28999999,  0.22999999,  1.01999998,  0.        ,  0.54999999,\n",
       "         0.52999999,  0.70999998,  2.90999993,  0.23999999,  0.18      ]),\n",
       " array([ 0.03      ,  1.15999997,  0.        ,  0.        ,  0.12      ,\n",
       "         0.26999999,  0.        ,  0.1       ,  0.52999999,  0.        ,\n",
       "         0.26999999,  1.03999998,  1.29999997,  0.        ,  0.53999999,\n",
       "         0.35999999,  0.31999999,  1.32999997,  0.81999998,  0.30999999]),\n",
       " array([ 0.2       ,  0.34999999,  0.        ,  0.27999999,  0.37999999,\n",
       "         0.19      ,  0.        ,  0.67999998,  0.91999998,  0.        ,\n",
       "         0.34999999,  0.08      ,  0.        ,  0.        ,  0.53999999,\n",
       "         0.22999999,  0.83999998,  0.1       ,  0.        ,  0.12      ]),\n",
       " array([ 0.1       ,  0.87999998,  0.        ,  0.        ,  0.51999999,\n",
       "         0.05      ,  0.11      ,  0.47999999,  0.93999998,  0.        ,\n",
       "         0.63999999,  0.76999998,  0.82999998,  0.        ,  0.47999999,\n",
       "         0.23999999,  0.88999998,  1.01999998,  0.13      ,  0.33999999]),\n",
       " array([ 0.        ,  0.61999999,  0.        ,  0.2       ,  1.03999998,\n",
       "         0.25999999,  0.        ,  0.52999999,  0.46999999,  0.        ,\n",
       "         0.58999999,  0.27999999,  1.17999997,  0.        ,  0.67999998,\n",
       "         0.22999999,  0.45999999,  0.91999998,  0.72999998,  0.45999999]),\n",
       " array([ 0.19      ,  0.80999998,  0.        ,  0.22999999,  0.95999998,\n",
       "         0.26999999,  0.        ,  0.54999999,  0.30999999,  0.        ,\n",
       "         0.42999999,  0.92999998,  0.17      ,  0.        ,  0.38999999,\n",
       "         0.1       ,  0.03      ,  0.71999998,  1.23999997,  0.41999999]),\n",
       " array([ 0.23999999,  0.84999998,  0.25999999,  0.        ,  0.47999999,\n",
       "         0.09      ,  0.        ,  0.85999998,  1.08999998,  0.        ,\n",
       "         0.77999998,  1.36999997,  0.56999999,  0.        ,  0.29999999,\n",
       "         0.60999999,  0.15      ,  0.29999999,  0.        ,  0.46999999]),\n",
       " array([ 0.04      ,  0.36999999,  0.14      ,  0.        ,  0.94999998,\n",
       "         0.41999999,  0.        ,  1.00999998,  0.71999998,  0.        ,\n",
       "         0.29999999,  0.        ,  0.65999999,  0.        ,  0.19      ,\n",
       "         0.12      ,  0.60999999,  0.67999998,  0.34999999,  0.37999999]),\n",
       " array([ 0.15      ,  0.72999998,  0.07      ,  0.        ,  0.33999999,\n",
       "         0.06      ,  0.        ,  0.35999999,  1.25999997,  0.        ,\n",
       "         0.1       ,  0.1       ,  0.29999999,  0.        ,  0.71999998,\n",
       "         0.07      ,  0.60999999,  0.85999998,  0.47999999,  0.13      ]),\n",
       " array([ 0.24999999,  0.38999999,  0.        ,  0.        ,  0.79999998,\n",
       "         0.        ,  0.        ,  1.26999997,  0.03      ,  0.        ,\n",
       "         0.40999999,  0.        ,  0.71999998,  0.        ,  0.29999999,\n",
       "         0.44999999,  1.31999997,  1.81999996,  1.32999997,  0.47999999]),\n",
       " array([ 0.19      ,  0.57999999,  0.        ,  0.09      ,  0.44999999,\n",
       "         0.09      ,  0.        ,  0.71999998,  0.25999999,  0.11      ,\n",
       "         0.38999999,  1.17999997,  0.69999998,  0.        ,  1.38999997,\n",
       "         0.08      ,  0.48999999,  0.25999999,  0.22999999,  0.42999999]),\n",
       " array([ 0.59999999,  0.52999999,  0.        ,  0.        ,  0.09      ,\n",
       "         0.1       ,  0.        ,  0.58999999,  1.32999997,  0.        ,\n",
       "         0.76999998,  0.32999999,  0.86999998,  0.        ,  0.30999999,\n",
       "         0.45999999,  0.79999998,  0.12      ,  1.52999997,  0.76999998]),\n",
       " array([ 0.15      ,  1.03999998,  0.        ,  0.        ,  0.22999999,\n",
       "         0.26999999,  0.        ,  0.27999999,  0.83999998,  0.        ,\n",
       "         0.41999999,  0.09      ,  0.1       ,  0.        ,  1.06999998,\n",
       "         0.1       ,  0.17      ,  0.40999999,  1.16999997,  0.35999999]),\n",
       " array([ 0.07      ,  0.2       ,  0.        ,  0.        ,  0.09      ,\n",
       "         0.26999999,  0.        ,  0.82999998,  0.95999998,  0.        ,\n",
       "         0.48999999,  0.37999999,  0.        ,  0.        ,  0.34999999,\n",
       "         0.16      ,  0.2       ,  0.99999998,  0.25999999,  0.2       ]),\n",
       " array([ 0.46999999,  0.14      ,  0.        ,  0.        ,  0.        ,\n",
       "         0.        ,  0.        ,  0.90999998,  0.73999998,  0.        ,\n",
       "         0.34999999,  0.27999999,  1.29999997,  0.        ,  0.44999999,\n",
       "         0.25999999,  0.77999998,  1.20999997,  1.12999997,  0.06      ]),\n",
       " array([ 0.08      ,  1.24999997,  0.        ,  0.29999999,  0.34999999,\n",
       "         0.17      ,  0.        ,  0.94999998,  0.31999999,  0.        ,\n",
       "         0.68999998,  0.36999999,  1.46999997,  0.        ,  0.95999998,\n",
       "         0.67999998,  0.94999998,  0.46999999,  0.        ,  0.14      ]),\n",
       " array([ 0.2       ,  0.70999998,  0.        ,  0.05      ,  0.52999999,\n",
       "         0.11      ,  0.        ,  1.05999998,  0.49999999,  0.        ,\n",
       "         0.43999999,  0.91999998,  0.46999999,  0.19      ,  0.64999999,\n",
       "         0.18      ,  0.46999999,  0.94999998,  0.53999999,  0.40999999]),\n",
       " array([ 0.18      ,  0.16      ,  0.12      ,  0.09      ,  0.47999999,\n",
       "         0.        ,  0.        ,  1.58999996,  0.48999999,  0.        ,\n",
       "         0.23999999,  0.91999998,  0.53999999,  0.        ,  1.00999998,\n",
       "         0.23999999,  1.36999997,  0.79999998,  0.47999999,  0.        ]),\n",
       " array([ 0.30999999,  0.43999999,  0.        ,  0.        ,  0.1       ,\n",
       "         0.1       ,  0.        ,  0.81999998,  0.23999999,  0.        ,\n",
       "         0.22      ,  0.14      ,  0.15      ,  0.        ,  0.58999999,\n",
       "         0.1       ,  0.50999999,  0.53999999,  0.98999998,  0.43999999]),\n",
       " array([ 0.28999999,  0.76999998,  0.        ,  0.        ,  0.80999998,\n",
       "         0.02      ,  0.        ,  1.56999996,  0.07      ,  0.        ,\n",
       "         0.44999999,  0.14      ,  1.78999996,  0.        ,  0.51999999,\n",
       "         0.36999999,  0.        ,  0.91999998,  0.55999999,  0.07      ]),\n",
       " array([ 0.22999999,  0.81999998,  0.        ,  0.        ,  0.        ,\n",
       "         0.04      ,  0.        ,  0.50999999,  0.55999999,  0.        ,\n",
       "         0.51999999,  0.35999999,  0.83999998,  0.16      ,  0.22999999,\n",
       "         0.04      ,  0.80999998,  0.62999999,  1.23999997,  0.67999998]),\n",
       " array([ 0.03      ,  0.42999999,  0.        ,  0.        ,  0.50999999,\n",
       "         0.        ,  0.        ,  0.50999999,  0.92999998,  0.        ,\n",
       "         0.60999999,  1.84999996,  1.55999997,  0.1       ,  0.98999998,\n",
       "         0.31999999,  0.50999999,  1.97999996,  1.14999997,  0.13      ]),\n",
       " array([ 0.25999999,  0.44999999,  0.        ,  0.07      ,  0.38999999,\n",
       "         0.        ,  0.        ,  0.18      ,  0.59999999,  0.        ,\n",
       "         0.33999999,  0.71999998,  0.60999999,  0.2       ,  0.29999999,\n",
       "         0.2       ,  0.37999999,  0.53999999,  0.17      ,  0.60999999]),\n",
       " array([ 0.11      ,  0.46999999,  0.        ,  0.19      ,  1.05999998,\n",
       "         0.        ,  0.        ,  0.22999999,  0.22999999,  0.        ,\n",
       "         0.70999998,  0.52999999,  0.80999998,  0.        ,  0.47999999,\n",
       "         0.40999999,  0.74999998,  0.31999999,  0.71999998,  0.19      ]),\n",
       " array([ 0.16      ,  0.22      ,  0.        ,  0.        ,  0.        ,\n",
       "         0.11      ,  0.        ,  0.92999998,  0.64999999,  0.        ,\n",
       "         0.74999998,  0.65999999,  0.65999999,  0.08      ,  0.50999999,\n",
       "         1.18999997,  1.11999997,  0.94999998,  0.03      ,  0.06      ]),\n",
       " array([ 0.24999999,  0.99999998,  0.19      ,  0.06      ,  0.80999998,\n",
       "         0.09      ,  0.        ,  0.80999998,  0.90999998,  0.        ,\n",
       "         0.16      ,  0.46999999,  1.11999997,  0.13      ,  0.70999998,\n",
       "         0.13      ,  0.83999998,  1.17999997,  1.04999998,  0.        ]),\n",
       " array([ 0.01      ,  0.76999998,  0.23999999,  0.04      ,  0.60999999,\n",
       "         0.        ,  0.        ,  0.24999999,  1.55999997,  0.        ,\n",
       "         0.51999999,  1.51999997,  0.39999999,  0.        ,  0.        ,\n",
       "         0.16      ,  0.        ,  1.00999998,  0.70999998,  0.52999999]),\n",
       " array([ 0.34999999,  0.13      ,  0.13      ,  0.21      ,  1.02999998,\n",
       "         0.        ,  0.        ,  0.45999999,  0.56999999,  0.        ,\n",
       "         0.1       ,  0.51999999,  1.24999997,  0.        ,  0.36999999,\n",
       "         0.53999999,  0.97999998,  1.04999998,  0.58999999,  0.        ]),\n",
       " array([ 0.09      ,  0.55999999,  0.        ,  0.        ,  0.95999998,\n",
       "         0.09      ,  0.        ,  0.83999998,  0.15      ,  0.07      ,\n",
       "         0.46999999,  0.27999999,  0.61999999,  0.        ,  0.46999999,\n",
       "         0.28999999,  0.2       ,  0.42999999,  0.43999999,  0.41999999]),\n",
       " array([ 0.        ,  0.99999998,  0.        ,  0.09      ,  0.56999999,\n",
       "         0.12      ,  0.        ,  0.47999999,  0.44999999,  0.09      ,\n",
       "         0.84999998,  0.79999998,  0.28999999,  0.22      ,  0.98999998,\n",
       "         0.54999999,  0.71999998,  0.84999998,  0.28999999,  0.        ]),\n",
       " array([ 0.06      ,  0.42999999,  0.        ,  0.17      ,  0.69999998,\n",
       "         0.1       ,  0.        ,  0.21      ,  0.75999998,  0.        ,\n",
       "         0.04      ,  0.58999999,  0.18      ,  0.25999999,  0.75999998,\n",
       "         0.19      ,  0.53999999,  1.07999998,  0.98999998,  0.19      ]),\n",
       " array([ 0.16      ,  0.30999999,  0.07      ,  0.42999999,  0.63999999,\n",
       "         0.        ,  0.        ,  0.61999999,  0.54999999,  0.        ,\n",
       "         0.23999999,  1.02999998,  0.64999999,  0.        ,  0.18      ,\n",
       "         0.22      ,  0.34999999,  0.97999998,  0.56999999,  0.        ]),\n",
       " array([ 0.08      ,  1.72999996,  0.        ,  0.        ,  0.12      ,\n",
       "         0.21      ,  0.        ,  0.33999999,  1.35999997,  0.        ,\n",
       "         0.23999999,  0.91999998,  0.63999999,  0.        ,  0.62999999,\n",
       "         0.18      ,  1.22999997,  1.33999997,  0.90999998,  0.07      ]),\n",
       " array([ 0.21      ,  0.08      ,  0.30999999,  0.        ,  0.06      ,\n",
       "         0.        ,  0.        ,  0.30999999,  0.17      ,  0.        ,\n",
       "         0.26999999,  0.36999999,  0.40999999,  0.        ,  1.06999998,\n",
       "         0.27999999,  2.07999995,  0.50999999,  1.30999997,  0.        ]),\n",
       " array([ 0.08      ,  0.13      ,  0.        ,  0.        ,  0.23999999,\n",
       "         0.08      ,  0.        ,  1.16999997,  1.08999998,  0.        ,\n",
       "         0.09      ,  0.39999999,  0.23999999,  0.        ,  0.64999999,\n",
       "         0.05      ,  1.34999997,  0.63999999,  0.11      ,  0.19      ]),\n",
       " array([ 0.17      ,  1.15999997,  0.        ,  0.16      ,  0.07      ,\n",
       "         0.08      ,  0.        ,  0.71999998,  0.41999999,  0.        ,\n",
       "         0.34999999,  0.        ,  0.70999998,  0.        ,  0.32999999,\n",
       "         0.32999999,  1.30999997,  1.05999998,  0.49999999,  0.53999999]),\n",
       " array([ 0.14      ,  0.90999998,  0.        ,  0.        ,  0.60999999,\n",
       "         0.        ,  0.        ,  0.56999999,  0.36999999,  0.        ,\n",
       "         0.08      ,  0.92999998,  0.24999999,  0.37999999,  1.07999998,\n",
       "         0.33999999,  0.58999999,  0.35999999,  1.09999998,  0.        ]),\n",
       " array([ 0.11      ,  0.44999999,  0.        ,  0.        ,  0.        ,\n",
       "         0.08      ,  0.        ,  0.17      ,  0.94999998,  0.        ,\n",
       "         0.43999999,  0.73999998,  1.21999997,  0.        ,  0.41999999,\n",
       "         0.16      ,  0.53999999,  1.89999996,  1.07999998,  0.29999999]),\n",
       " array([ 0.08      ,  0.63999999,  0.        ,  0.        ,  0.43999999,\n",
       "         0.        ,  0.        ,  0.45999999,  0.66999999,  0.        ,\n",
       "         0.11      ,  0.16      ,  0.26999999,  0.        ,  0.38999999,\n",
       "         0.37999999,  0.64999999,  0.        ,  1.15999997,  0.        ]),\n",
       " array([ 0.04      ,  0.55999999,  0.        ,  0.13      ,  0.42999999,\n",
       "         0.        ,  0.09      ,  0.11      ,  0.82999998,  0.        ,\n",
       "         0.49999999,  0.        ,  0.50999999,  0.        ,  0.35999999,\n",
       "         0.35999999,  0.55999999,  0.78999998,  0.65999999,  0.2       ]),\n",
       " array([ 0.19      ,  0.51999999,  0.        ,  0.40999999,  0.87999998,\n",
       "         0.        ,  0.        ,  0.        ,  1.81999996,  0.        ,\n",
       "         0.1       ,  0.        ,  0.79999998,  0.        ,  0.34999999,\n",
       "         0.38999999,  0.        ,  0.82999998,  0.59999999,  0.        ]),\n",
       " array([ 0.06      ,  0.88999998,  0.11      ,  0.        ,  0.30999999,\n",
       "         0.        ,  0.        ,  0.76999998,  0.70999998,  0.        ,\n",
       "         0.36999999,  0.73999998,  0.90999998,  0.24999999,  0.18      ,\n",
       "         0.14      ,  0.71999998,  0.69999998,  2.32999995,  0.33999999]),\n",
       " array([ 0.17      ,  1.05999998,  0.        ,  0.        ,  0.35999999,\n",
       "         0.08      ,  0.        ,  0.38999999,  0.64999999,  0.        ,\n",
       "         0.24999999,  0.80999998,  0.73999998,  0.        ,  0.46999999,\n",
       "         0.29999999,  0.93999998,  0.64999999,  0.15      ,  0.21      ]),\n",
       " array([ 0.16      ,  1.58999996,  0.        ,  0.        ,  0.61999999,\n",
       "         0.        ,  0.        ,  0.67999998,  0.97999998,  0.01      ,\n",
       "         0.34999999,  0.86999998,  0.88999998,  0.        ,  0.17      ,\n",
       "         0.31999999,  0.        ,  1.20999997,  0.74999998,  0.50999999]),\n",
       " array([ 0.28999999,  0.40999999,  0.14      ,  0.        ,  0.75999998,\n",
       "         0.        ,  0.        ,  0.29999999,  0.11      ,  0.        ,\n",
       "         0.26999999,  1.05999998,  0.78999998,  0.        ,  0.23999999,\n",
       "         0.19      ,  0.97999998,  0.85999998,  0.40999999,  0.        ]),\n",
       " array([ 0.        ,  1.87999996,  0.        ,  0.        ,  0.61999999,\n",
       "         0.        ,  0.        ,  0.41999999,  0.51999999,  0.        ,\n",
       "         0.43999999,  0.56999999,  0.40999999,  0.        ,  0.53999999,\n",
       "         0.29999999,  0.36999999,  0.85999998,  0.97999998,  0.        ]),\n",
       " array([ 0.12      ,  0.42999999,  0.        ,  0.16      ,  0.34999999,\n",
       "         0.        ,  0.        ,  0.33999999,  0.39999999,  0.        ,\n",
       "         0.13      ,  0.        ,  0.21      ,  0.        ,  0.07      ,\n",
       "         0.66999999,  0.        ,  0.81999998,  1.29999997,  0.        ]),\n",
       " array([ 0.1       ,  1.01999998,  0.15      ,  0.13      ,  0.14      ,\n",
       "         0.07      ,  0.        ,  1.71999996,  0.65999999,  0.        ,\n",
       "         0.16      ,  0.24999999,  0.74999998,  0.        ,  0.63999999,\n",
       "         0.27999999,  0.54999999,  0.61999999,  0.57999999,  0.19      ]),\n",
       " array([ 0.24999999,  0.99999998,  0.05      ,  0.        ,  0.47999999,\n",
       "         0.        ,  0.        ,  0.85999998,  0.52999999,  0.        ,\n",
       "         0.42999999,  0.55999999,  0.88999998,  0.        ,  1.02999998,\n",
       "         0.35999999,  0.        ,  0.42999999,  0.40999999,  0.        ]),\n",
       " array([ 0.2       ,  0.54999999,  0.        ,  0.46999999,  0.69999998,\n",
       "         0.        ,  0.        ,  0.76999998,  1.64999996,  0.        ,\n",
       "         0.41999999,  0.15      ,  1.07999998,  0.        ,  0.49999999,\n",
       "         0.32999999,  0.68999998,  0.74999998,  1.23999997,  0.42999999]),\n",
       " array([ 0.16      ,  0.75999998,  0.        ,  0.06      ,  0.        ,\n",
       "         0.17      ,  0.        ,  0.33999999,  0.29999999,  0.        ,\n",
       "         0.04      ,  0.73999998,  1.08999998,  0.        ,  0.70999998,\n",
       "         0.        ,  0.89999998,  0.60999999,  1.10999998,  0.1       ]),\n",
       " array([ 0.11      ,  0.85999998,  0.        ,  0.        ,  0.51999999,\n",
       "         0.19      ,  0.        ,  0.91999998,  0.74999998,  0.        ,\n",
       "         0.48999999,  0.        ,  1.08999998,  0.05      ,  0.77999998,\n",
       "         0.22      ,  1.13999997,  1.42999997,  0.46999999,  0.77999998]),\n",
       " array([ 0.29999999,  1.09999998,  0.        ,  0.        ,  0.26999999,\n",
       "         0.04      ,  0.        ,  0.81999998,  0.74999998,  0.        ,\n",
       "         0.82999998,  0.13      ,  0.88999998,  0.        ,  0.27999999,\n",
       "         0.07      ,  0.54999999,  0.23999999,  1.19999997,  0.        ]),\n",
       " array([ 0.26999999,  0.50999999,  0.        ,  0.        ,  0.87999998,\n",
       "         0.03      ,  0.        ,  0.31999999,  0.88999998,  0.        ,\n",
       "         0.53999999,  1.41999997,  0.11      ,  0.        ,  0.61999999,\n",
       "         0.33999999,  0.74999998,  0.56999999,  0.74999998,  0.05      ]),\n",
       " array([ 0.14      ,  0.72999998,  0.08      ,  0.        ,  0.        ,\n",
       "         0.        ,  0.11      ,  0.22      ,  0.74999998,  0.13      ,\n",
       "         0.        ,  0.52999999,  0.73999998,  0.        ,  0.69999998,\n",
       "         0.12      ,  0.72999998,  0.52999999,  0.82999998,  0.74999998]),\n",
       " array([ 0.21      ,  0.87999998,  0.        ,  0.2       ,  0.32999999,\n",
       "         0.08      ,  0.09      ,  0.22999999,  1.04999998,  0.        ,\n",
       "         0.65999999,  0.1       ,  0.72999998,  0.        ,  0.78999998,\n",
       "         0.26999999,  1.15999997,  1.38999997,  1.06999998,  0.68999998]),\n",
       " array([ 0.02      ,  1.14999997,  0.        ,  0.        ,  1.52999997,\n",
       "         0.23999999,  0.        ,  0.53999999,  1.17999997,  0.        ,\n",
       "         0.1       ,  0.34999999,  0.42999999,  0.        ,  0.06      ,\n",
       "         0.23999999,  0.29999999,  0.32999999,  0.95999998,  0.08      ]),\n",
       " array([ 0.11      ,  0.58999999,  0.        ,  0.16      ,  0.13      ,\n",
       "         0.        ,  0.        ,  0.85999998,  0.61999999,  0.09      ,\n",
       "         0.45999999,  0.28999999,  0.43999999,  0.        ,  0.64999999,\n",
       "         0.1       ,  0.08      ,  0.91999998,  0.63999999,  0.16      ]),\n",
       " array([ 0.11      ,  0.48999999,  0.        ,  0.23999999,  0.60999999,\n",
       "         0.1       ,  0.        ,  0.56999999,  1.13999997,  0.        ,\n",
       "         0.07      ,  0.99999998,  0.66999999,  0.        ,  0.71999998,\n",
       "         0.24999999,  0.        ,  1.01999998,  1.25999997,  0.        ]),\n",
       " array([ 0.02      ,  0.39999999,  0.        ,  0.21      ,  0.15      ,\n",
       "         0.        ,  0.        ,  0.16      ,  0.65999999,  0.        ,\n",
       "         0.14      ,  0.48999999,  0.61999999,  0.        ,  0.42999999,\n",
       "         0.11      ,  0.1       ,  0.60999999,  0.2       ,  0.        ]),\n",
       " array([ 0.12      ,  1.07999998,  0.        ,  0.        ,  0.        ,\n",
       "         0.07      ,  0.        ,  0.75999998,  0.91999998,  0.        ,\n",
       "         0.62999999,  0.55999999,  0.31999999,  0.18      ,  1.33999997,\n",
       "         0.07      ,  1.35999997,  1.00999998,  0.        ,  0.59999999]),\n",
       " array([ 0.08      ,  0.51999999,  0.29999999,  0.        ,  1.41999997,\n",
       "         0.        ,  0.        ,  0.38999999,  0.29999999,  0.        ,\n",
       "         0.83999998,  0.64999999,  0.55999999,  0.        ,  0.45999999,\n",
       "         0.23999999,  0.        ,  0.97999998,  0.        ,  0.17      ]),\n",
       " array([ 0.04      ,  0.35999999,  0.        ,  0.15      ,  0.        ,\n",
       "         0.        ,  0.        ,  0.12      ,  0.        ,  0.        ,\n",
       "         0.32999999,  0.37999999,  0.47999999,  0.        ,  0.69999998,\n",
       "         0.16      ,  0.59999999,  1.14999997,  1.61999996,  0.14      ]),\n",
       " array([ 0.        ,  0.67999998,  0.12      ,  0.        ,  0.38999999,\n",
       "         0.        ,  0.08      ,  0.63999999,  0.25999999,  0.        ,\n",
       "         0.08      ,  0.24999999,  1.07999998,  0.        ,  0.32999999,\n",
       "         0.15      ,  0.33999999,  0.42999999,  0.46999999,  0.02      ]),\n",
       " array([ 0.18      ,  1.06999998,  0.06      ,  0.        ,  0.82999998,\n",
       "         0.        ,  0.        ,  0.19      ,  0.96999998,  0.        ,\n",
       "         0.03      ,  0.33999999,  1.79999996,  0.        ,  0.25999999,\n",
       "         0.36999999,  0.26999999,  1.85999996,  0.30999999,  0.94999998])]"
      ]
     },
     "execution_count": 13,
     "metadata": {},
     "output_type": "execute_result"
    }
   ],
   "source": [
    "scores"
   ]
  },
  {
   "cell_type": "code",
   "execution_count": 18,
   "metadata": {},
   "outputs": [
    {
     "data": {
      "text/plain": [
       "tensor(1.00000e-02 *\n",
       "       [[ 0.0000],\n",
       "        [ 0.0000],\n",
       "        [ 0.0000],\n",
       "        [ 0.0000],\n",
       "        [ 0.0000],\n",
       "        [ 0.0000],\n",
       "        [ 0.0000],\n",
       "        [ 0.0000],\n",
       "        [ 0.0000],\n",
       "        [ 0.0000],\n",
       "        [ 0.0000],\n",
       "        [ 0.0000],\n",
       "        [ 0.0000],\n",
       "        [ 0.0000],\n",
       "        [ 0.0000],\n",
       "        [ 0.0000],\n",
       "        [ 0.0000],\n",
       "        [ 0.0000],\n",
       "        [ 0.0000],\n",
       "        [ 0.0000],\n",
       "        [ 0.0000],\n",
       "        [ 0.0000],\n",
       "        [ 0.0000],\n",
       "        [ 0.0000],\n",
       "        [ 0.0000],\n",
       "        [ 0.0000],\n",
       "        [ 0.0000],\n",
       "        [ 0.0000],\n",
       "        [ 0.0000],\n",
       "        [ 0.0000],\n",
       "        [ 0.0000],\n",
       "        [ 0.0000],\n",
       "        [ 0.0000],\n",
       "        [ 0.0000],\n",
       "        [ 0.0000],\n",
       "        [ 0.0000],\n",
       "        [ 0.0000],\n",
       "        [ 0.0000],\n",
       "        [ 0.0000],\n",
       "        [ 0.0000],\n",
       "        [ 0.0000],\n",
       "        [ 0.0000],\n",
       "        [ 0.0000],\n",
       "        [ 0.0000],\n",
       "        [ 0.0000],\n",
       "        [ 0.0000],\n",
       "        [ 0.0000],\n",
       "        [ 0.0000],\n",
       "        [ 0.0000],\n",
       "        [ 0.0000],\n",
       "        [ 0.0000],\n",
       "        [ 0.0000],\n",
       "        [ 0.0000],\n",
       "        [ 0.0000],\n",
       "        [ 0.0000],\n",
       "        [ 0.0000],\n",
       "        [ 0.0000],\n",
       "        [ 0.0000],\n",
       "        [ 0.0000],\n",
       "        [ 0.0000],\n",
       "        [ 0.0000],\n",
       "        [ 0.0000],\n",
       "        [ 0.0000],\n",
       "        [ 0.0000],\n",
       "        [ 0.0000],\n",
       "        [ 0.0000],\n",
       "        [ 0.0000],\n",
       "        [ 0.0000],\n",
       "        [ 0.0000],\n",
       "        [ 0.0000],\n",
       "        [ 0.0000],\n",
       "        [ 0.0000],\n",
       "        [ 0.0000],\n",
       "        [ 0.0000],\n",
       "        [ 0.0000],\n",
       "        [ 0.0000],\n",
       "        [ 0.0000],\n",
       "        [ 0.0000],\n",
       "        [ 0.0000],\n",
       "        [ 0.0000],\n",
       "        [ 4.0000],\n",
       "        [ 0.0000],\n",
       "        [ 0.0000],\n",
       "        [ 0.0000],\n",
       "        [ 0.0000],\n",
       "        [ 0.0000],\n",
       "        [ 0.0000],\n",
       "        [ 0.0000],\n",
       "        [ 0.0000],\n",
       "        [ 0.0000],\n",
       "        [ 0.0000],\n",
       "        [ 0.0000],\n",
       "        [ 0.0000],\n",
       "        [ 0.0000],\n",
       "        [ 0.0000],\n",
       "        [ 0.0000],\n",
       "        [ 0.0000],\n",
       "        [ 0.0000],\n",
       "        [ 0.0000],\n",
       "        [ 0.0000],\n",
       "        [ 0.0000],\n",
       "        [ 0.0000],\n",
       "        [ 0.0000],\n",
       "        [ 0.0000],\n",
       "        [ 0.0000],\n",
       "        [ 0.0000],\n",
       "        [ 0.0000],\n",
       "        [ 0.0000],\n",
       "        [ 0.0000],\n",
       "        [ 0.0000],\n",
       "        [ 0.0000],\n",
       "        [ 0.0000],\n",
       "        [ 0.0000],\n",
       "        [ 0.0000],\n",
       "        [ 0.0000],\n",
       "        [ 0.0000],\n",
       "        [ 0.0000],\n",
       "        [ 0.0000],\n",
       "        [ 0.0000],\n",
       "        [ 0.0000],\n",
       "        [ 0.0000],\n",
       "        [ 0.0000],\n",
       "        [ 0.0000],\n",
       "        [ 0.0000],\n",
       "        [ 0.0000],\n",
       "        [ 0.0000],\n",
       "        [ 0.0000],\n",
       "        [ 0.0000]])"
      ]
     },
     "execution_count": 18,
     "metadata": {},
     "output_type": "execute_result"
    }
   ],
   "source": [
    "s, a, r, ns, d = agent.memory.sample()\n",
    "r"
   ]
  },
  {
   "cell_type": "code",
   "execution_count": 19,
   "metadata": {},
   "outputs": [
    {
     "data": {
      "text/plain": [
       "tensor([[ -0.3607,   3.1007,  -2.5667,  ...,   1.0000,   0.0000,\n",
       "          -0.1943],\n",
       "        [ -4.0076,  -0.0360,   0.3308,  ...,   1.0000,   0.0000,\n",
       "           0.3090],\n",
       "        [  2.5733,   0.0234,  -3.0934,  ...,   1.0000,   0.0000,\n",
       "          -0.1146],\n",
       "        ...,\n",
       "        [ -1.3662,  -3.6782,   0.8825,  ...,   1.0000,   0.0000,\n",
       "           0.4355],\n",
       "        [  0.8462,   3.6299,  -1.5920,  ...,   1.0000,   0.0000,\n",
       "           0.6837],\n",
       "        [  2.9982,  -2.5198,  -0.8657,  ...,   1.0000,   0.0000,\n",
       "          -0.2518]])"
      ]
     },
     "execution_count": 19,
     "metadata": {},
     "output_type": "execute_result"
    }
   ],
   "source": [
    "s"
   ]
  },
  {
   "cell_type": "code",
   "execution_count": 20,
   "metadata": {},
   "outputs": [
    {
     "data": {
      "text/plain": [
       "tensor([[-0.4259,  1.0000,  1.0000, -0.2602],\n",
       "        [ 0.3594,  0.6747,  0.8181,  0.4211],\n",
       "        [-0.2689,  1.0000,  1.0000,  0.0589],\n",
       "        [-0.3063,  1.0000,  1.0000, -0.2895],\n",
       "        [ 0.5332,  0.8233,  0.6522,  0.5892],\n",
       "        [ 0.5554,  0.6650,  0.7272,  0.5934],\n",
       "        [-0.4064,  1.0000,  1.0000, -0.3351],\n",
       "        [ 0.7001,  0.6284,  0.6492,  0.7461],\n",
       "        [-0.4275,  1.0000,  1.0000, -0.1364],\n",
       "        [ 0.4524,  0.8248,  0.6277,  0.3860],\n",
       "        [ 0.7037,  0.6843,  0.7518,  0.5907],\n",
       "        [ 0.5792,  1.0000,  0.8367,  0.6675],\n",
       "        [-0.0279,  1.0000,  0.8326, -0.1143],\n",
       "        [-0.1267,  1.0000,  0.9491,  0.1671],\n",
       "        [-0.3385,  1.0000,  1.0000, -0.0052],\n",
       "        [ 0.5295,  0.7977,  0.5615,  0.6289],\n",
       "        [ 0.6390,  0.5711,  0.8544,  0.7698],\n",
       "        [ 0.2727,  1.0000,  0.8001,  0.4023],\n",
       "        [-0.3612,  1.0000,  1.0000, -0.3345],\n",
       "        [-0.3244,  1.0000,  1.0000, -0.2196],\n",
       "        [-0.3392,  1.0000,  1.0000, -0.2531],\n",
       "        [-0.3725,  1.0000,  1.0000,  0.0236],\n",
       "        [-0.2521,  1.0000,  1.0000, -0.3820],\n",
       "        [ 0.0306,  1.0000,  0.5461,  0.2564],\n",
       "        [-0.4346,  1.0000,  1.0000, -0.4176],\n",
       "        [-0.3361,  1.0000,  1.0000, -0.2976],\n",
       "        [-0.4339,  1.0000,  1.0000, -0.1997],\n",
       "        [-0.2903,  1.0000,  1.0000, -0.3047],\n",
       "        [-0.3124,  1.0000,  1.0000, -0.2198],\n",
       "        [-0.3162,  1.0000,  1.0000, -0.4122],\n",
       "        [ 0.4817,  0.6973,  0.9247,  0.4111],\n",
       "        [ 0.0221,  1.0000,  0.7041,  0.1524],\n",
       "        [ 0.0160,  1.0000,  1.0000, -0.1590],\n",
       "        [-0.1459,  1.0000,  1.0000, -0.3128],\n",
       "        [-0.3302,  1.0000,  1.0000, -0.3521],\n",
       "        [-0.3967,  1.0000,  1.0000, -0.3703],\n",
       "        [ 0.0048,  0.0981,  0.2124,  0.0332],\n",
       "        [-0.4223,  1.0000,  1.0000, -0.4851],\n",
       "        [-0.1836,  1.0000,  0.7991,  0.0108],\n",
       "        [-0.4665,  1.0000,  1.0000, -0.4917],\n",
       "        [ 0.5344,  0.6817,  0.7607,  0.7916],\n",
       "        [ 0.3310,  0.8517,  0.6607,  0.4154],\n",
       "        [-0.1890,  1.0000,  1.0000, -0.3354],\n",
       "        [-0.2524,  1.0000,  1.0000, -0.3724],\n",
       "        [ 0.0053,  1.0000,  0.8146,  0.3290],\n",
       "        [-0.5089,  1.0000,  1.0000, -0.2765],\n",
       "        [ 0.5966,  0.8987,  0.7333,  0.5953],\n",
       "        [-0.3871,  1.0000,  1.0000, -0.3820],\n",
       "        [-0.1280,  1.0000,  1.0000, -0.6108],\n",
       "        [ 0.5827,  0.5097,  0.7113,  0.6700],\n",
       "        [-0.1219,  1.0000,  1.0000, -0.0806],\n",
       "        [-0.2068,  1.0000,  1.0000, -0.2553],\n",
       "        [ 0.4758,  0.6028,  0.5870,  0.3548],\n",
       "        [-0.1607,  1.0000,  1.0000, -0.2043],\n",
       "        [ 0.1318,  0.9224,  0.8222,  0.2905],\n",
       "        [-0.2990,  1.0000,  1.0000, -0.2711],\n",
       "        [-0.2019,  1.0000,  1.0000, -0.0580],\n",
       "        [-0.4291,  1.0000,  1.0000, -0.1637],\n",
       "        [-0.4260,  1.0000,  1.0000, -0.3594],\n",
       "        [ 0.2556,  1.0000,  1.0000,  0.1687],\n",
       "        [-0.2393,  1.0000,  0.9520, -0.0352],\n",
       "        [-0.3301,  1.0000,  1.0000, -0.3616],\n",
       "        [-0.2511,  1.0000,  1.0000, -0.4786],\n",
       "        [ 0.5779,  0.9619,  0.6543,  0.4572],\n",
       "        [-0.5155,  1.0000,  1.0000, -0.4416],\n",
       "        [-0.4471,  1.0000,  1.0000, -0.4191],\n",
       "        [-0.2364,  1.0000,  1.0000, -0.3040],\n",
       "        [ 0.4774,  0.5489,  0.6224,  0.5254],\n",
       "        [-0.4035,  1.0000,  1.0000, -0.5015],\n",
       "        [-0.3735,  1.0000,  1.0000, -0.2018],\n",
       "        [-0.3206,  1.0000,  1.0000, -0.1555],\n",
       "        [-0.3113,  1.0000,  1.0000, -0.3335],\n",
       "        [ 0.0096,  1.0000,  0.7805,  0.1591],\n",
       "        [-0.0402,  1.0000,  0.7193,  0.2955],\n",
       "        [-0.6020,  1.0000,  1.0000, -0.2908],\n",
       "        [ 0.1176,  1.0000,  0.8941,  0.2362],\n",
       "        [ 0.2073,  0.8683,  0.7392,  0.3940],\n",
       "        [ 0.5141,  0.5532,  0.6385,  0.7163],\n",
       "        [-0.3120,  1.0000,  1.0000, -0.2945],\n",
       "        [-0.1440,  1.0000,  1.0000, -0.0394],\n",
       "        [-0.3657,  1.0000,  1.0000, -0.3931],\n",
       "        [ 0.4052,  0.6858,  0.6840,  0.4967],\n",
       "        [-0.4061,  1.0000,  1.0000, -0.2931],\n",
       "        [ 0.4543,  0.7248,  0.6190,  0.5405],\n",
       "        [-0.5148,  1.0000,  1.0000, -0.2016],\n",
       "        [ 0.1119,  0.8893,  0.7641,  0.2004],\n",
       "        [-0.4716,  1.0000,  1.0000, -0.2448],\n",
       "        [-0.3564,  1.0000,  1.0000, -0.1649],\n",
       "        [-0.4301,  1.0000,  1.0000, -0.4452],\n",
       "        [-0.2605,  1.0000,  1.0000, -0.3077],\n",
       "        [ 0.3509,  0.9312,  0.8250,  0.3534],\n",
       "        [-0.4270,  1.0000,  1.0000, -0.4743],\n",
       "        [-0.2642,  1.0000,  1.0000, -0.5339],\n",
       "        [ 0.4285,  0.7921,  0.6369,  0.4375],\n",
       "        [ 0.2727,  1.0000,  0.6852,  0.2767],\n",
       "        [ 0.4616,  0.7006,  0.7520,  0.4164],\n",
       "        [ 0.3548,  1.0000,  0.8748,  0.2682],\n",
       "        [-0.2155,  1.0000,  1.0000, -0.1048],\n",
       "        [-0.3278,  1.0000,  1.0000, -0.2157],\n",
       "        [-0.2223,  1.0000,  1.0000, -0.2671],\n",
       "        [-0.3221,  1.0000,  1.0000, -0.4082],\n",
       "        [-0.1004,  1.0000,  1.0000, -0.1066],\n",
       "        [ 0.4304,  0.8539,  0.8217,  0.5232],\n",
       "        [-0.4735,  1.0000,  1.0000, -0.3291],\n",
       "        [-0.1345,  1.0000,  1.0000, -0.1662],\n",
       "        [-0.2584,  1.0000,  1.0000, -0.2709],\n",
       "        [ 0.1945,  0.9644,  0.6583,  0.5224],\n",
       "        [ 0.1911,  1.0000,  0.8784,  0.3404],\n",
       "        [-0.3500,  1.0000,  1.0000, -0.5439],\n",
       "        [-0.5928,  1.0000,  1.0000, -0.3592],\n",
       "        [-0.2453,  1.0000,  1.0000, -0.3418],\n",
       "        [-0.4878,  1.0000,  1.0000, -0.3828],\n",
       "        [-0.2682,  1.0000,  1.0000, -0.4432],\n",
       "        [ 0.0102,  1.0000,  0.7758,  0.2173],\n",
       "        [-0.3186,  1.0000,  1.0000, -0.2903],\n",
       "        [-0.2527,  1.0000,  1.0000, -0.2537],\n",
       "        [-0.3872,  1.0000,  1.0000, -0.3176],\n",
       "        [-0.2274,  1.0000,  1.0000, -0.1600],\n",
       "        [-0.2068,  1.0000,  1.0000, -0.3285],\n",
       "        [-0.2366,  1.0000,  1.0000, -0.2559],\n",
       "        [-0.2199,  1.0000,  1.0000, -0.1356],\n",
       "        [-0.3036,  1.0000,  1.0000, -0.0520],\n",
       "        [ 0.5372,  0.7991,  0.8048,  0.5416],\n",
       "        [-0.3793,  1.0000,  1.0000, -0.2800],\n",
       "        [ 0.5546,  0.9428,  0.8472,  0.4440],\n",
       "        [-0.4030,  1.0000,  1.0000, -0.2972],\n",
       "        [-0.3401,  1.0000,  1.0000, -0.2727],\n",
       "        [-0.5810,  1.0000,  1.0000, -0.3515]])"
      ]
     },
     "execution_count": 20,
     "metadata": {},
     "output_type": "execute_result"
    }
   ],
   "source": [
    "a"
   ]
  },
  {
   "cell_type": "code",
   "execution_count": 21,
   "metadata": {},
   "outputs": [
    {
     "data": {
      "text/plain": [
       "tensor([[ -1.0680,   2.6585,  -2.8473,  ...,   1.0000,   0.0000,\n",
       "          -0.1943],\n",
       "        [ -4.0197,   0.0519,   0.0717,  ...,   1.0000,   0.0000,\n",
       "           0.3090],\n",
       "        [  2.1642,  -0.6421,  -3.3300,  ...,   1.0000,   0.0000,\n",
       "          -0.1146],\n",
       "        ...,\n",
       "        [ -0.8773,  -3.8699,  -0.6546,  ...,   1.0000,   0.0000,\n",
       "           0.4355],\n",
       "        [ -0.0564,   3.1988,  -2.4820,  ...,   1.0000,   0.0000,\n",
       "           0.6837],\n",
       "        [  3.2756,  -2.2926,  -0.3273,  ...,   1.0000,   0.0000,\n",
       "          -0.2518]])"
      ]
     },
     "execution_count": 21,
     "metadata": {},
     "output_type": "execute_result"
    }
   ],
   "source": [
    "ns"
   ]
  },
  {
   "cell_type": "code",
   "execution_count": 22,
   "metadata": {},
   "outputs": [
    {
     "data": {
      "text/plain": [
       "tensor([[ 0.],\n",
       "        [ 0.],\n",
       "        [ 0.],\n",
       "        [ 0.],\n",
       "        [ 0.],\n",
       "        [ 0.],\n",
       "        [ 0.],\n",
       "        [ 0.],\n",
       "        [ 0.],\n",
       "        [ 0.],\n",
       "        [ 0.],\n",
       "        [ 0.],\n",
       "        [ 0.],\n",
       "        [ 0.],\n",
       "        [ 0.],\n",
       "        [ 0.],\n",
       "        [ 0.],\n",
       "        [ 0.],\n",
       "        [ 0.],\n",
       "        [ 0.],\n",
       "        [ 0.],\n",
       "        [ 0.],\n",
       "        [ 0.],\n",
       "        [ 0.],\n",
       "        [ 0.],\n",
       "        [ 0.],\n",
       "        [ 0.],\n",
       "        [ 0.],\n",
       "        [ 0.],\n",
       "        [ 0.],\n",
       "        [ 0.],\n",
       "        [ 0.],\n",
       "        [ 0.],\n",
       "        [ 0.],\n",
       "        [ 0.],\n",
       "        [ 0.],\n",
       "        [ 0.],\n",
       "        [ 0.],\n",
       "        [ 0.],\n",
       "        [ 0.],\n",
       "        [ 0.],\n",
       "        [ 0.],\n",
       "        [ 0.],\n",
       "        [ 0.],\n",
       "        [ 0.],\n",
       "        [ 0.],\n",
       "        [ 0.],\n",
       "        [ 0.],\n",
       "        [ 0.],\n",
       "        [ 0.],\n",
       "        [ 0.],\n",
       "        [ 0.],\n",
       "        [ 0.],\n",
       "        [ 0.],\n",
       "        [ 0.],\n",
       "        [ 0.],\n",
       "        [ 0.],\n",
       "        [ 0.],\n",
       "        [ 0.],\n",
       "        [ 0.],\n",
       "        [ 0.],\n",
       "        [ 0.],\n",
       "        [ 0.],\n",
       "        [ 0.],\n",
       "        [ 0.],\n",
       "        [ 0.],\n",
       "        [ 0.],\n",
       "        [ 0.],\n",
       "        [ 0.],\n",
       "        [ 0.],\n",
       "        [ 0.],\n",
       "        [ 0.],\n",
       "        [ 0.],\n",
       "        [ 0.],\n",
       "        [ 0.],\n",
       "        [ 0.],\n",
       "        [ 0.],\n",
       "        [ 0.],\n",
       "        [ 0.],\n",
       "        [ 0.],\n",
       "        [ 0.],\n",
       "        [ 0.],\n",
       "        [ 0.],\n",
       "        [ 0.],\n",
       "        [ 0.],\n",
       "        [ 0.],\n",
       "        [ 0.],\n",
       "        [ 0.],\n",
       "        [ 0.],\n",
       "        [ 0.],\n",
       "        [ 0.],\n",
       "        [ 0.],\n",
       "        [ 0.],\n",
       "        [ 0.],\n",
       "        [ 0.],\n",
       "        [ 0.],\n",
       "        [ 0.],\n",
       "        [ 0.],\n",
       "        [ 0.],\n",
       "        [ 0.],\n",
       "        [ 0.],\n",
       "        [ 0.],\n",
       "        [ 0.],\n",
       "        [ 0.],\n",
       "        [ 0.],\n",
       "        [ 0.],\n",
       "        [ 0.],\n",
       "        [ 0.],\n",
       "        [ 0.],\n",
       "        [ 0.],\n",
       "        [ 0.],\n",
       "        [ 0.],\n",
       "        [ 0.],\n",
       "        [ 0.],\n",
       "        [ 0.],\n",
       "        [ 0.],\n",
       "        [ 0.],\n",
       "        [ 0.],\n",
       "        [ 0.],\n",
       "        [ 0.],\n",
       "        [ 0.],\n",
       "        [ 0.],\n",
       "        [ 0.],\n",
       "        [ 0.],\n",
       "        [ 0.],\n",
       "        [ 0.],\n",
       "        [ 0.],\n",
       "        [ 0.]])"
      ]
     },
     "execution_count": 22,
     "metadata": {},
     "output_type": "execute_result"
    }
   ],
   "source": [
    "d"
   ]
  },
  {
   "cell_type": "code",
   "execution_count": 13,
   "metadata": {},
   "outputs": [
    {
     "data": {
      "text/plain": [
       "Experience(state=array([[  0.00000000e+00,  -4.00000000e+00,   0.00000000e+00,\n",
       "          1.00000000e+00,  -0.00000000e+00,  -0.00000000e+00,\n",
       "         -4.37113883e-08,   0.00000000e+00,   0.00000000e+00,\n",
       "          0.00000000e+00,   0.00000000e+00,   0.00000000e+00,\n",
       "          0.00000000e+00,   0.00000000e+00,  -1.00000000e+01,\n",
       "          0.00000000e+00,   1.00000000e+00,  -0.00000000e+00,\n",
       "         -0.00000000e+00,  -4.37113883e-08,   0.00000000e+00,\n",
       "          0.00000000e+00,   0.00000000e+00,   0.00000000e+00,\n",
       "          0.00000000e+00,   0.00000000e+00,  -4.23935318e+00,\n",
       "         -1.00000000e+00,   6.78438473e+00,   0.00000000e+00,\n",
       "          1.00000000e+00,   0.00000000e+00,   7.30195284e-01]]), action=array([[ 0.12885186,  0.1245423 ,  0.05763825,  0.10255083]], dtype=float32), reward=[0.0], next_state=array([[  1.61403656e-01,  -3.99659324e+00,   8.01710039e-02,\n",
       "          9.99748766e-01,   2.00758148e-02,  -1.68862622e-04,\n",
       "          9.97499190e-03,  -3.96210849e-01,   9.60622914e-03,\n",
       "          7.97224998e-01,   3.20442653e+00,   9.68954340e-02,\n",
       "          1.59139216e+00,   4.77008820e-02,  -9.98537159e+00,\n",
       "          2.55882870e-02,   9.99054909e-01,  -3.90085950e-02,\n",
       "         -1.60806917e-03,  -1.91071164e-02,   7.61818826e-01,\n",
       "          9.19773430e-02,  -1.54945338e+00,  -1.30926263e+00,\n",
       "          5.72450519e-01,  -5.92070282e-01,  -3.88814735e+00,\n",
       "         -1.00000000e+00,   6.99158859e+00,   0.00000000e+00,\n",
       "          1.00000000e+00,   0.00000000e+00,   7.30195284e-01]]), done=[False])"
      ]
     },
     "execution_count": 13,
     "metadata": {},
     "output_type": "execute_result"
    }
   ],
   "source": [
    "# with 1 agent\n",
    "\n",
    "agent.memory.memory[0]"
   ]
  },
  {
   "cell_type": "code",
   "execution_count": 16,
   "metadata": {},
   "outputs": [],
   "source": [
    "s1, a1, r1, ns1, d1 = agent.memory.sample()"
   ]
  },
  {
   "cell_type": "code",
   "execution_count": 17,
   "metadata": {},
   "outputs": [
    {
     "data": {
      "text/plain": [
       "tensor([[  1.3667,  -3.6205,  -1.0204,  ...,   1.0000,   0.0000,\n",
       "          -0.2767],\n",
       "        [  0.6432,  -2.6008,   2.9804,  ...,   1.0000,   0.0000,\n",
       "          -0.2767],\n",
       "        [ -2.0980,  -3.4053,   0.2337,  ...,   1.0000,   0.0000,\n",
       "          -0.2767],\n",
       "        ...,\n",
       "        [  2.8919,  -1.9164,  -2.0160,  ...,   1.0000,   0.0000,\n",
       "          -0.2767],\n",
       "        [ -0.6881,  -2.7139,   2.8662,  ...,   1.0000,   0.0000,\n",
       "          -0.2767],\n",
       "        [  0.1614,  -3.9966,   0.0801,  ...,   1.0000,   0.0000,\n",
       "          -0.2767]])"
      ]
     },
     "execution_count": 17,
     "metadata": {},
     "output_type": "execute_result"
    }
   ],
   "source": [
    "s1"
   ]
  },
  {
   "cell_type": "code",
   "execution_count": 18,
   "metadata": {},
   "outputs": [
    {
     "data": {
      "text/plain": [
       "tensor([[ 0.6371,  0.4520,  0.8361,  0.7865],\n",
       "        [-0.1192,  1.0000,  1.0000, -0.2811],\n",
       "        [ 0.5612,  0.5204,  0.7443,  0.4953],\n",
       "        [-0.1982,  1.0000,  1.0000, -0.2436],\n",
       "        [-0.2988,  1.0000,  1.0000, -0.3876],\n",
       "        [-0.1752,  1.0000,  1.0000, -0.3249],\n",
       "        [-0.2246,  1.0000,  1.0000, -0.3106],\n",
       "        [-0.3745,  1.0000,  1.0000, -0.0617],\n",
       "        [-0.1497,  1.0000,  1.0000, -0.3133],\n",
       "        [-0.3675,  1.0000,  1.0000, -0.3470],\n",
       "        [-0.2656,  1.0000,  1.0000, -0.4070],\n",
       "        [ 0.5103,  0.7426,  0.7028,  0.5983],\n",
       "        [ 0.4481,  0.8578,  1.0000,  0.6203],\n",
       "        [ 0.5002,  0.6886,  0.6879,  0.5156],\n",
       "        [-0.3469,  1.0000,  1.0000, -0.1137],\n",
       "        [-0.2965,  1.0000,  1.0000, -0.4010],\n",
       "        [ 0.7005,  0.2914,  0.6537,  0.6028],\n",
       "        [-0.3599,  1.0000,  1.0000, -0.5086],\n",
       "        [ 0.2298,  0.8776,  0.9896,  0.7690],\n",
       "        [-0.1445,  1.0000,  1.0000, -0.2441],\n",
       "        [-0.3867,  1.0000,  1.0000, -0.3114],\n",
       "        [ 0.4682,  1.0000,  1.0000,  0.7196],\n",
       "        [-0.3089,  1.0000,  1.0000, -0.1827],\n",
       "        [-0.2346,  1.0000,  1.0000, -0.3194],\n",
       "        [-0.3304,  1.0000,  1.0000, -0.3343],\n",
       "        [-0.3555,  1.0000,  1.0000, -0.0590],\n",
       "        [-0.5068,  1.0000,  1.0000, -0.5466],\n",
       "        [ 0.5567,  0.6456,  0.6106,  0.7262],\n",
       "        [ 0.6903,  0.8545,  0.8229,  0.6493],\n",
       "        [ 0.4173,  0.6959,  0.7814,  0.5682],\n",
       "        [-0.3969,  1.0000,  1.0000, -0.2280],\n",
       "        [-0.4711,  1.0000,  1.0000, -0.3535],\n",
       "        [-0.4308,  1.0000,  1.0000, -0.2031],\n",
       "        [ 0.7342,  0.6168,  0.8032,  0.6431],\n",
       "        [-0.2971,  1.0000,  1.0000, -0.1964],\n",
       "        [-0.2638,  1.0000,  1.0000, -0.2337],\n",
       "        [-0.2589,  1.0000,  1.0000, -0.2866],\n",
       "        [ 0.3735,  0.7502,  0.7764,  0.6080],\n",
       "        [ 0.7218,  0.5854,  0.8639,  0.6260],\n",
       "        [-0.4792,  1.0000,  1.0000, -0.4811],\n",
       "        [-0.2850,  1.0000,  1.0000, -0.4506],\n",
       "        [-0.3247,  1.0000,  1.0000, -0.2289],\n",
       "        [-0.3333,  1.0000,  1.0000, -0.2940],\n",
       "        [-0.3660,  1.0000,  1.0000, -0.2676],\n",
       "        [-0.1130,  1.0000,  1.0000, -0.3291],\n",
       "        [-0.2768,  1.0000,  1.0000, -0.2613],\n",
       "        [-0.2520,  1.0000,  1.0000, -0.3434],\n",
       "        [-0.4551,  1.0000,  1.0000, -0.2762],\n",
       "        [-0.1538,  1.0000,  1.0000, -0.2180],\n",
       "        [-0.3383,  1.0000,  1.0000, -0.2034],\n",
       "        [-0.3029,  1.0000,  1.0000, -0.3135],\n",
       "        [-0.2129,  1.0000,  1.0000, -0.2004],\n",
       "        [-0.3525,  1.0000,  1.0000, -0.3000],\n",
       "        [-0.1194,  1.0000,  1.0000, -0.4060],\n",
       "        [-0.2447,  1.0000,  1.0000,  0.0648],\n",
       "        [-0.3903,  1.0000,  1.0000, -0.3159],\n",
       "        [ 0.4509,  0.6719,  0.8729,  0.5281],\n",
       "        [-0.2411,  1.0000,  1.0000, -0.1915],\n",
       "        [-0.2751,  1.0000,  1.0000, -0.3592],\n",
       "        [ 0.3250,  0.8167,  1.0000,  0.5050],\n",
       "        [-0.2325,  1.0000,  1.0000, -0.2610],\n",
       "        [-0.0725,  1.0000,  1.0000, -0.2473],\n",
       "        [-0.4747,  1.0000,  1.0000, -0.4063],\n",
       "        [-0.2579,  1.0000,  1.0000, -0.3012],\n",
       "        [ 0.4072,  0.5732,  0.7204,  0.6301],\n",
       "        [ 0.6990,  0.5379,  0.8595,  0.6361],\n",
       "        [ 0.0792,  1.0000,  1.0000,  0.5468],\n",
       "        [-0.1563,  1.0000,  1.0000, -0.3108],\n",
       "        [-0.3539,  1.0000,  1.0000, -0.2052],\n",
       "        [-0.3863,  1.0000,  1.0000, -0.4251],\n",
       "        [ 0.4720,  0.6873,  0.8557,  0.6115],\n",
       "        [ 0.3088,  0.9246,  0.9704,  0.7715],\n",
       "        [-0.3762,  1.0000,  1.0000, -0.1366],\n",
       "        [-0.3856,  1.0000,  1.0000, -0.3894],\n",
       "        [-0.3351,  1.0000,  1.0000, -0.0895],\n",
       "        [ 0.4976,  0.7497,  0.7990,  0.5366],\n",
       "        [-0.3056,  1.0000,  1.0000, -0.2317],\n",
       "        [ 0.1340,  1.0000,  1.0000,  0.6049],\n",
       "        [ 0.6433,  0.4765,  0.7186,  0.6047],\n",
       "        [-0.0761,  1.0000,  1.0000, -0.2729],\n",
       "        [-0.2340,  1.0000,  1.0000, -0.1256],\n",
       "        [ 0.5645,  0.6669,  0.7467,  0.6840],\n",
       "        [ 0.6692,  0.5973,  0.8807,  0.6405],\n",
       "        [-0.1638,  1.0000,  1.0000, -0.4075],\n",
       "        [-0.3458,  1.0000,  1.0000, -0.4035],\n",
       "        [ 0.6786,  0.4593,  0.8462,  0.5241],\n",
       "        [-0.3392,  1.0000,  1.0000, -0.3576],\n",
       "        [-0.1939,  1.0000,  1.0000, -0.3554],\n",
       "        [ 0.5196,  0.3472,  0.5535,  0.3833],\n",
       "        [ 0.6317,  0.4183,  0.6319,  0.5279],\n",
       "        [ 0.3660,  0.8939,  1.0000,  0.4444],\n",
       "        [-0.2974,  1.0000,  1.0000, -0.3333],\n",
       "        [-0.1842,  1.0000,  1.0000, -0.3768],\n",
       "        [-0.3518,  1.0000,  1.0000, -0.3478],\n",
       "        [ 0.0061,  1.0000,  1.0000,  0.2857],\n",
       "        [ 0.6581,  0.5563,  0.7029,  0.6722],\n",
       "        [-0.1495,  1.0000,  1.0000, -0.2171],\n",
       "        [-0.4794,  1.0000,  1.0000, -0.3450],\n",
       "        [-0.2715,  1.0000,  1.0000, -0.1244],\n",
       "        [-0.2745,  1.0000,  1.0000,  0.0071],\n",
       "        [-0.5371,  1.0000,  1.0000, -0.2767],\n",
       "        [-0.2125,  1.0000,  1.0000, -0.2633],\n",
       "        [-0.0913,  1.0000,  1.0000,  0.4262],\n",
       "        [-0.1191,  1.0000,  1.0000, -0.3476],\n",
       "        [-0.3545,  1.0000,  1.0000, -0.4261],\n",
       "        [-0.4290,  1.0000,  1.0000, -0.3213],\n",
       "        [-0.4124,  1.0000,  1.0000, -0.4091],\n",
       "        [-0.2343,  1.0000,  1.0000, -0.1286],\n",
       "        [ 0.1572,  0.9157,  1.0000,  0.4353],\n",
       "        [-0.2115,  1.0000,  1.0000, -0.1672],\n",
       "        [ 0.5859,  0.5881,  0.5910,  0.6672],\n",
       "        [-0.3442,  1.0000,  1.0000, -0.4056],\n",
       "        [-0.4208,  1.0000,  1.0000, -0.2240],\n",
       "        [ 0.4359,  0.5840,  0.7900,  0.5114],\n",
       "        [-0.0727,  1.0000,  1.0000, -0.1700],\n",
       "        [ 0.6757,  0.5645,  0.7374,  0.5269],\n",
       "        [-0.3534,  1.0000,  1.0000, -0.5287],\n",
       "        [-0.2023,  1.0000,  1.0000, -0.2162],\n",
       "        [-0.0069,  1.0000,  1.0000, -0.0871],\n",
       "        [-0.3161,  1.0000,  1.0000, -0.5320],\n",
       "        [-0.3907,  1.0000,  1.0000, -0.1283],\n",
       "        [-0.2940,  1.0000,  1.0000, -0.2532],\n",
       "        [-0.3764,  1.0000,  1.0000, -0.3115],\n",
       "        [-0.4180,  1.0000,  1.0000, -0.1298],\n",
       "        [ 0.7419,  0.6932,  0.6909,  0.5313],\n",
       "        [ 0.0915,  1.0000,  1.0000,  0.3569],\n",
       "        [-0.4389,  1.0000,  1.0000, -0.3713],\n",
       "        [ 0.0862,  0.1117,  0.2969,  0.0732]])"
      ]
     },
     "execution_count": 18,
     "metadata": {},
     "output_type": "execute_result"
    }
   ],
   "source": [
    "a1"
   ]
  },
  {
   "cell_type": "code",
   "execution_count": 20,
   "metadata": {},
   "outputs": [
    {
     "data": {
      "text/plain": [
       "tensor(1.00000e-02 *\n",
       "       [[ 0.0000],\n",
       "        [ 0.0000],\n",
       "        [ 0.0000],\n",
       "        [ 0.0000],\n",
       "        [ 0.0000],\n",
       "        [ 0.0000],\n",
       "        [ 0.0000],\n",
       "        [ 0.0000],\n",
       "        [ 0.0000],\n",
       "        [ 0.0000],\n",
       "        [ 0.0000],\n",
       "        [ 0.0000],\n",
       "        [ 0.0000],\n",
       "        [ 0.0000],\n",
       "        [ 0.0000],\n",
       "        [ 0.0000],\n",
       "        [ 0.0000],\n",
       "        [ 0.0000],\n",
       "        [ 0.0000],\n",
       "        [ 0.0000],\n",
       "        [ 0.0000],\n",
       "        [ 0.0000],\n",
       "        [ 0.0000],\n",
       "        [ 0.0000],\n",
       "        [ 0.0000],\n",
       "        [ 0.0000],\n",
       "        [ 0.0000],\n",
       "        [ 0.0000],\n",
       "        [ 0.0000],\n",
       "        [ 0.0000],\n",
       "        [ 0.0000],\n",
       "        [ 0.0000],\n",
       "        [ 0.0000],\n",
       "        [ 0.0000],\n",
       "        [ 0.0000],\n",
       "        [ 0.0000],\n",
       "        [ 0.0000],\n",
       "        [ 0.0000],\n",
       "        [ 0.0000],\n",
       "        [ 0.0000],\n",
       "        [ 0.0000],\n",
       "        [ 0.0000],\n",
       "        [ 0.0000],\n",
       "        [ 0.0000],\n",
       "        [ 0.0000],\n",
       "        [ 0.0000],\n",
       "        [ 0.0000],\n",
       "        [ 0.0000],\n",
       "        [ 0.0000],\n",
       "        [ 0.0000],\n",
       "        [ 0.0000],\n",
       "        [ 0.0000],\n",
       "        [ 0.0000],\n",
       "        [ 0.0000],\n",
       "        [ 0.0000],\n",
       "        [ 0.0000],\n",
       "        [ 4.0000],\n",
       "        [ 0.0000],\n",
       "        [ 0.0000],\n",
       "        [ 0.0000],\n",
       "        [ 0.0000],\n",
       "        [ 0.0000],\n",
       "        [ 0.0000],\n",
       "        [ 0.0000],\n",
       "        [ 0.0000],\n",
       "        [ 0.0000],\n",
       "        [ 0.0000],\n",
       "        [ 0.0000],\n",
       "        [ 0.0000],\n",
       "        [ 0.0000],\n",
       "        [ 0.0000],\n",
       "        [ 0.0000],\n",
       "        [ 0.0000],\n",
       "        [ 0.0000],\n",
       "        [ 0.0000],\n",
       "        [ 2.0000],\n",
       "        [ 0.0000],\n",
       "        [ 0.0000],\n",
       "        [ 0.0000],\n",
       "        [ 0.0000],\n",
       "        [ 0.0000],\n",
       "        [ 0.0000],\n",
       "        [ 0.0000],\n",
       "        [ 0.0000],\n",
       "        [ 0.0000],\n",
       "        [ 0.0000],\n",
       "        [ 0.0000],\n",
       "        [ 0.0000],\n",
       "        [ 0.0000],\n",
       "        [ 0.0000],\n",
       "        [ 0.0000],\n",
       "        [ 0.0000],\n",
       "        [ 0.0000],\n",
       "        [ 0.0000],\n",
       "        [ 0.0000],\n",
       "        [ 0.0000],\n",
       "        [ 0.0000],\n",
       "        [ 0.0000],\n",
       "        [ 0.0000],\n",
       "        [ 0.0000],\n",
       "        [ 0.0000],\n",
       "        [ 0.0000],\n",
       "        [ 4.0000],\n",
       "        [ 0.0000],\n",
       "        [ 0.0000],\n",
       "        [ 0.0000],\n",
       "        [ 0.0000],\n",
       "        [ 0.0000],\n",
       "        [ 0.0000],\n",
       "        [ 0.0000],\n",
       "        [ 0.0000],\n",
       "        [ 0.0000],\n",
       "        [ 0.0000],\n",
       "        [ 0.0000],\n",
       "        [ 0.0000],\n",
       "        [ 0.0000],\n",
       "        [ 0.0000],\n",
       "        [ 0.0000],\n",
       "        [ 0.0000],\n",
       "        [ 0.0000],\n",
       "        [ 0.0000],\n",
       "        [ 0.0000],\n",
       "        [ 0.0000],\n",
       "        [ 0.0000],\n",
       "        [ 0.0000],\n",
       "        [ 0.0000],\n",
       "        [ 0.0000],\n",
       "        [ 0.0000]])"
      ]
     },
     "execution_count": 20,
     "metadata": {},
     "output_type": "execute_result"
    }
   ],
   "source": [
    "r1"
   ]
  },
  {
   "cell_type": "code",
   "execution_count": 21,
   "metadata": {},
   "outputs": [
    {
     "data": {
      "text/plain": [
       "tensor([[ 0.],\n",
       "        [ 0.],\n",
       "        [ 0.],\n",
       "        [ 0.],\n",
       "        [ 0.],\n",
       "        [ 0.],\n",
       "        [ 0.],\n",
       "        [ 0.],\n",
       "        [ 0.],\n",
       "        [ 0.],\n",
       "        [ 0.],\n",
       "        [ 0.],\n",
       "        [ 0.],\n",
       "        [ 0.],\n",
       "        [ 0.],\n",
       "        [ 0.],\n",
       "        [ 0.],\n",
       "        [ 0.],\n",
       "        [ 0.],\n",
       "        [ 0.],\n",
       "        [ 0.],\n",
       "        [ 0.],\n",
       "        [ 0.],\n",
       "        [ 0.],\n",
       "        [ 0.],\n",
       "        [ 0.],\n",
       "        [ 0.],\n",
       "        [ 0.],\n",
       "        [ 0.],\n",
       "        [ 0.],\n",
       "        [ 0.],\n",
       "        [ 0.],\n",
       "        [ 0.],\n",
       "        [ 0.],\n",
       "        [ 0.],\n",
       "        [ 0.],\n",
       "        [ 0.],\n",
       "        [ 0.],\n",
       "        [ 0.],\n",
       "        [ 0.],\n",
       "        [ 0.],\n",
       "        [ 0.],\n",
       "        [ 0.],\n",
       "        [ 0.],\n",
       "        [ 0.],\n",
       "        [ 0.],\n",
       "        [ 0.],\n",
       "        [ 0.],\n",
       "        [ 0.],\n",
       "        [ 0.],\n",
       "        [ 0.],\n",
       "        [ 0.],\n",
       "        [ 0.],\n",
       "        [ 0.],\n",
       "        [ 0.],\n",
       "        [ 0.],\n",
       "        [ 0.],\n",
       "        [ 0.],\n",
       "        [ 0.],\n",
       "        [ 0.],\n",
       "        [ 0.],\n",
       "        [ 0.],\n",
       "        [ 0.],\n",
       "        [ 0.],\n",
       "        [ 0.],\n",
       "        [ 0.],\n",
       "        [ 0.],\n",
       "        [ 0.],\n",
       "        [ 0.],\n",
       "        [ 0.],\n",
       "        [ 0.],\n",
       "        [ 0.],\n",
       "        [ 0.],\n",
       "        [ 0.],\n",
       "        [ 0.],\n",
       "        [ 0.],\n",
       "        [ 0.],\n",
       "        [ 0.],\n",
       "        [ 0.],\n",
       "        [ 0.],\n",
       "        [ 0.],\n",
       "        [ 0.],\n",
       "        [ 0.],\n",
       "        [ 0.],\n",
       "        [ 0.],\n",
       "        [ 0.],\n",
       "        [ 0.],\n",
       "        [ 0.],\n",
       "        [ 0.],\n",
       "        [ 0.],\n",
       "        [ 0.],\n",
       "        [ 0.],\n",
       "        [ 0.],\n",
       "        [ 0.],\n",
       "        [ 0.],\n",
       "        [ 0.],\n",
       "        [ 0.],\n",
       "        [ 0.],\n",
       "        [ 0.],\n",
       "        [ 0.],\n",
       "        [ 0.],\n",
       "        [ 0.],\n",
       "        [ 0.],\n",
       "        [ 0.],\n",
       "        [ 0.],\n",
       "        [ 0.],\n",
       "        [ 0.],\n",
       "        [ 0.],\n",
       "        [ 0.],\n",
       "        [ 0.],\n",
       "        [ 0.],\n",
       "        [ 0.],\n",
       "        [ 0.],\n",
       "        [ 0.],\n",
       "        [ 0.],\n",
       "        [ 0.],\n",
       "        [ 0.],\n",
       "        [ 0.],\n",
       "        [ 0.],\n",
       "        [ 0.],\n",
       "        [ 0.],\n",
       "        [ 0.],\n",
       "        [ 0.],\n",
       "        [ 0.],\n",
       "        [ 0.],\n",
       "        [ 0.],\n",
       "        [ 0.],\n",
       "        [ 0.]])"
      ]
     },
     "execution_count": 21,
     "metadata": {},
     "output_type": "execute_result"
    }
   ],
   "source": [
    "d1"
   ]
  },
  {
   "cell_type": "code",
   "execution_count": 16,
   "metadata": {},
   "outputs": [
    {
     "data": {
      "text/plain": [
       "array([-0.10176537, -0.15231891, -0.05315007,  0.03211645])"
      ]
     },
     "execution_count": 16,
     "metadata": {},
     "output_type": "execute_result"
    }
   ],
   "source": [
    "agent.noise.state"
   ]
  },
  {
   "cell_type": "code",
   "execution_count": 19,
   "metadata": {},
   "outputs": [
    {
     "data": {
      "text/plain": [
       "array([[ 0.99995929,  0.99991238, -0.99999988,  1.        ],\n",
       "       [ 1.        ,  0.9961018 , -1.        ,  0.98366696],\n",
       "       [ 1.        ,  0.34506825, -0.08077027,  0.99996251],\n",
       "       [ 0.99999994,  0.99986684, -1.        ,  1.        ],\n",
       "       [ 1.        ,  0.99999845, -0.99999988,  0.74070585],\n",
       "       [ 0.99999911,  0.02088644, -0.99999994,  0.96934342],\n",
       "       [ 0.99999976,  0.99852043, -1.        ,  0.99999428],\n",
       "       [ 1.        ,  0.99999857, -1.        , -0.99640906],\n",
       "       [ 1.        ,  0.99999958, -0.99999982,  0.4249559 ],\n",
       "       [ 0.99999946,  0.98684049, -1.        ,  0.99946159],\n",
       "       [ 0.99991465, -0.98417598, -0.95996004,  0.9999913 ],\n",
       "       [ 0.99783087,  0.99994135, -0.99999946,  0.99999928],\n",
       "       [ 0.99832571,  0.99994624, -0.99999994,  0.99999911],\n",
       "       [ 1.        ,  0.80986267, -0.99999976,  0.9530192 ],\n",
       "       [ 1.        ,  0.9999997 , -1.        , -0.99886453],\n",
       "       [ 0.99999893,  0.32636809, -0.54392958,  0.99999559],\n",
       "       [ 1.        ,  0.999412  , -0.99999994,  0.9795692 ],\n",
       "       [ 0.99994302,  0.59501761, -0.88583565,  0.99999428],\n",
       "       [ 0.99999326,  0.99889261, -0.9975794 ,  1.        ],\n",
       "       [ 0.99837309, -0.99972469, -0.99998599,  0.99998575]], dtype=float32)"
      ]
     },
     "execution_count": 19,
     "metadata": {},
     "output_type": "execute_result"
    }
   ],
   "source": [
    "env_info = env.reset(train_mode=True)[brain_name]\n",
    "states = env_info.vector_observations\n",
    "action = agent.act(states, add_noise=False)\n",
    "action"
   ]
  },
  {
   "cell_type": "code",
   "execution_count": 17,
   "metadata": {},
   "outputs": [
    {
     "data": {
      "text/plain": [
       "array([[ 0.47810178,  0.66901974,  0.70558537,  0.69050904],\n",
       "       [ 0.73778381,  0.79928553,  0.64418928,  0.80965812],\n",
       "       [ 0.53395267,  0.79078532,  0.56146236,  0.70517041],\n",
       "       [ 0.70507714,  0.8491815 ,  0.65372262,  0.7767357 ],\n",
       "       [ 0.63845646,  0.75341998,  0.66533614,  0.60786338],\n",
       "       [ 0.50698117,  0.69732432,  0.67978055,  0.61425838],\n",
       "       [ 0.69130459,  0.61483689,  0.7110885 ,  0.61534539],\n",
       "       [ 0.75497527,  0.61492126,  0.66457122,  0.66299391],\n",
       "       [ 0.81284163,  0.7130924 ,  0.79838669,  0.72281295],\n",
       "       [ 0.56183734,  0.63222557,  0.8624734 ,  0.76116346],\n",
       "       [ 0.5649883 ,  0.80332307,  0.6860094 ,  0.91390537],\n",
       "       [ 0.72165818,  0.63571748,  0.77658719,  0.7323808 ],\n",
       "       [ 0.56061823,  0.62569696,  0.60404609,  0.58891427],\n",
       "       [ 0.64113406,  0.73413871,  0.71357587,  0.88946215],\n",
       "       [ 0.46479799,  0.66865596,  0.85589021,  0.75255522],\n",
       "       [ 0.62462978,  0.5127384 ,  0.79891344,  0.74746619],\n",
       "       [ 0.61865593,  0.54717079,  0.68128678,  0.70671282],\n",
       "       [ 0.64241747,  0.54769636,  0.65438786,  0.64745458],\n",
       "       [ 0.74664357,  0.53837503,  0.53333018,  0.77121192],\n",
       "       [ 0.54605191,  0.42352471,  0.67366692,  0.58940323]])"
      ]
     },
     "execution_count": 17,
     "metadata": {},
     "output_type": "execute_result"
    }
   ],
   "source": [
    "ns = agent.noise.sample()\n",
    "ns"
   ]
  },
  {
   "cell_type": "code",
   "execution_count": 36,
   "metadata": {},
   "outputs": [
    {
     "data": {
      "text/plain": [
       "array([[ 0.00169811,  0.66939001,  0.22062612,  0.71350348],\n",
       "       [ 0.89379786,  0.91420913,  0.81458593,  0.78630965],\n",
       "       [ 0.53078337,  0.35387489,  0.20625218,  0.95767607],\n",
       "       [ 0.17766202,  0.90100515,  0.66260595,  0.85861903],\n",
       "       [ 0.92344354,  0.29995183,  0.08175312,  0.52260821],\n",
       "       [ 0.35354201,  0.45997625,  0.04394202,  0.73945776],\n",
       "       [ 0.45646676,  0.73676281,  0.96072559,  0.93437408],\n",
       "       [ 0.9458574 ,  0.86804368,  0.06364039,  0.3697968 ],\n",
       "       [ 0.30552997,  0.73226245,  0.14455961,  0.42934515],\n",
       "       [ 0.02911738,  0.57953593,  0.6154667 ,  0.65089829],\n",
       "       [ 0.158712  ,  0.28621036,  0.63546637,  0.62916163],\n",
       "       [ 0.00107365,  0.98954703,  0.47374013,  0.24951513],\n",
       "       [ 0.3969519 ,  0.69828304,  0.03031471,  0.6128445 ],\n",
       "       [ 0.26780161,  0.1277371 ,  0.34469015,  0.75141007],\n",
       "       [ 0.57773529,  0.11035118,  0.32829839,  0.04150522],\n",
       "       [ 0.44279341,  0.11259411,  0.0392361 ,  0.0844095 ],\n",
       "       [ 0.65819224,  0.21951421,  0.43834026,  0.62169021],\n",
       "       [ 0.89448605,  0.86442615,  0.66254592,  0.572409  ],\n",
       "       [ 0.79342377,  0.41935137,  0.98661001,  0.33978015],\n",
       "       [ 0.86978092,  0.2271226 ,  0.59112566,  0.12854512]])"
      ]
     },
     "execution_count": 36,
     "metadata": {},
     "output_type": "execute_result"
    }
   ],
   "source": [
    "np.random.random_sample(size=(num_agents, action_size))"
   ]
  },
  {
   "cell_type": "code",
   "execution_count": 58,
   "metadata": {},
   "outputs": [
    {
     "data": {
      "text/plain": [
       "array([ 0.95603427,  0.94782749,  0.05655137,  0.084872  ])"
      ]
     },
     "execution_count": 58,
     "metadata": {},
     "output_type": "execute_result"
    }
   ],
   "source": [
    "import random\n",
    "random.seed(2)\n",
    "np.array([random.random() for i in range(4)])"
   ]
  },
  {
   "cell_type": "code",
   "execution_count": 32,
   "metadata": {},
   "outputs": [
    {
     "data": {
      "text/plain": [
       "array([ 0.51022385,  0.99868357,  0.6744797 ,  0.1818435 ])"
      ]
     },
     "execution_count": 32,
     "metadata": {},
     "output_type": "execute_result"
    }
   ],
   "source": [
    "np.array([random.random() for i in range(4)])"
   ]
  },
  {
   "cell_type": "code",
   "execution_count": 55,
   "metadata": {},
   "outputs": [
    {
     "name": "stdout",
     "output_type": "stream",
     "text": [
      "\n",
      "i = 0\n",
      "[ 0.01782741  0.10219409  0.12196218  0.10249602]\n",
      "\n",
      "i = 1\n",
      "[ 0.08995582  0.2101707   0.15103063  0.21530496]\n",
      "\n",
      "i = 2\n",
      "[ 0.18235056  0.3312017   0.1708335   0.30034672]\n",
      "\n",
      "i = 3\n",
      "[ 0.31996326  0.2980636   0.34244765  0.30220969]\n",
      "\n",
      "i = 4\n",
      "[ 0.40416257  0.44427402  0.48850396  0.45060846]\n",
      "\n",
      "i = 5\n",
      "[ 0.52524261  0.4697861   0.53387255  0.49066209]\n",
      "\n",
      "i = 6\n",
      "[ 0.52142175  0.44481911  0.62115895  0.48822272]\n",
      "\n",
      "i = 7\n",
      "[ 0.59807807  0.55997507  0.60884364  0.50878238]\n",
      "\n",
      "i = 8\n",
      "[ 0.56312869  0.50019717  0.54104463  0.62917986]\n",
      "\n",
      "i = 9\n",
      "[ 0.5727016   0.48422858  0.49817489  0.65944989]\n",
      "\n",
      "i = 10\n",
      "[ 0.49178531  0.46428122  0.46901506  0.68370914]\n",
      "\n",
      "i = 11\n",
      "[ 0.54956756  0.5651132   0.42047452  0.73198499]\n",
      "\n",
      "i = 12\n",
      "[ 0.46778375  0.49935682  0.36583638  0.72671227]\n",
      "\n",
      "i = 13\n",
      "[ 0.46060209  0.43421332  0.50296859  0.69881434]\n",
      "\n",
      "i = 14\n",
      "[ 0.51928934  0.53018083  0.55775443  0.6775992 ]\n",
      "\n",
      "i = 15\n",
      "[ 0.59685102  0.52982812  0.64086748  0.62291797]\n",
      "\n",
      "i = 16\n",
      "[ 0.54525397  0.59784468  0.54950941  0.71035653]\n",
      "\n",
      "i = 17\n",
      "[ 0.50619091  0.69468165  0.55039778  0.80350616]\n",
      "\n",
      "i = 18\n",
      "[ 0.53588602  0.64754309  0.53827889  0.81258941]\n",
      "\n",
      "i = 19\n",
      "[ 0.54259262  0.62113368  0.64854115  0.77938895]\n"
     ]
    }
   ],
   "source": [
    "agent.reset()\n",
    "agent.noise.sigma = 0.2\n",
    "agent.noise.theta = 0.15\n",
    "for i in range(20):\n",
    "    _ = agent.noise.sample()\n",
    "    print('\\ni = {}'.format(i))\n",
    "    print(agent.noise.state)\n",
    "    "
   ]
  },
  {
   "cell_type": "code",
   "execution_count": 60,
   "metadata": {},
   "outputs": [
    {
     "data": {
      "text/plain": [
       "array([-0.08138889, -0.09317005, -0.09728117, -0.11690834])"
      ]
     },
     "execution_count": 60,
     "metadata": {},
     "output_type": "execute_result"
    }
   ],
   "source": [
    "a = agent.noise.theta * (agent.noise.mu - agent.noise.state)\n",
    "a"
   ]
  },
  {
   "cell_type": "code",
   "execution_count": 61,
   "metadata": {},
   "outputs": [
    {
     "data": {
      "text/plain": [
       "array([ 0.12118883,  0.12136035,  0.1162408 ,  0.03167657])"
      ]
     },
     "execution_count": 61,
     "metadata": {},
     "output_type": "execute_result"
    }
   ],
   "source": [
    "b = agent.noise.sigma * np.array([random.random() for i in range(4)])\n",
    "b"
   ]
  },
  {
   "cell_type": "code",
   "execution_count": 71,
   "metadata": {},
   "outputs": [],
   "source": [
    "import copy\n",
    "from ddpg_agent import OUNoise\n",
    "agent.noise.mu = 0. * np.ones(action_size)"
   ]
  },
  {
   "cell_type": "code",
   "execution_count": 89,
   "metadata": {
    "scrolled": false
   },
   "outputs": [
    {
     "name": "stdout",
     "output_type": "stream",
     "text": [
      "state: \n",
      "[ 0.  0.  0.  0.]\n",
      "\n",
      "i = 0\n",
      "starting state:\n",
      "[ 0.  0.  0.  0.]\n",
      "dx: \n",
      "[ 0.1479566  -0.0383177  -0.01766231  0.03679723]\n",
      "noise:\n",
      "[ 0.1479566  -0.0383177  -0.01766231  0.03679723]\n",
      "\n",
      "i = 1\n",
      "starting state:\n",
      "[ 0.1479566  -0.0383177  -0.01766231  0.03679723]\n",
      "dx: \n",
      "[-0.2641619   0.14395982  0.17444779  0.03401781]\n",
      "noise:\n",
      "[-0.1162053   0.10564212  0.15678549  0.07081503]\n",
      "\n",
      "i = 2\n",
      "starting state:\n",
      "[-0.1162053   0.10564212  0.15678549  0.07081503]\n",
      "dx: \n",
      "[ 0.27577566 -0.14762134  0.15041817 -0.05886297]\n",
      "noise:\n",
      "[ 0.15957036 -0.04197922  0.30720365  0.01195207]\n",
      "\n",
      "i = 3\n",
      "starting state:\n",
      "[ 0.15957036 -0.04197922  0.30720365  0.01195207]\n",
      "dx: \n",
      "[ 0.04527406 -0.141178   -0.28934635 -0.23824141]\n",
      "noise:\n",
      "[ 0.20484441 -0.18315721  0.0178573  -0.22628934]\n",
      "\n",
      "i = 4\n",
      "starting state:\n",
      "[ 0.20484441 -0.18315721  0.0178573  -0.22628934]\n",
      "dx: \n",
      "[-0.33454683  0.09021867 -0.02488541  0.13877214]\n",
      "noise:\n",
      "[-0.12970242 -0.09293854 -0.00702811 -0.08751721]\n",
      "\n",
      "i = 5\n",
      "starting state:\n",
      "[-0.12970242 -0.09293854 -0.00702811 -0.08751721]\n",
      "dx: \n",
      "[-0.08535527  0.13811367  0.09114859 -0.14993405]\n",
      "noise:\n",
      "[-0.21505769  0.04517513  0.08412049 -0.23745126]\n",
      "\n",
      "i = 6\n",
      "starting state:\n",
      "[-0.21505769  0.04517513  0.08412049 -0.23745126]\n",
      "dx: \n",
      "[ 0.24363216  0.22346947 -0.04053105  0.30348852]\n",
      "noise:\n",
      "[ 0.02857447  0.2686446   0.04358944  0.06603726]\n",
      "\n",
      "i = 7\n",
      "starting state:\n",
      "[ 0.02857447  0.2686446   0.04358944  0.06603726]\n",
      "dx: \n",
      "[-0.2019697   0.08849243  0.06610764 -0.20280623]\n",
      "noise:\n",
      "[-0.17339523  0.35713704  0.10969707 -0.13676897]\n",
      "\n",
      "i = 8\n",
      "starting state:\n",
      "[-0.17339523  0.35713704  0.10969707 -0.13676897]\n",
      "dx: \n",
      "[ 0.00132557 -0.332763    0.09079883 -0.07245603]\n",
      "noise:\n",
      "[-0.17206966  0.02437404  0.20049591 -0.209225  ]\n",
      "\n",
      "i = 9\n",
      "starting state:\n",
      "[-0.17206966  0.02437404  0.20049591 -0.209225  ]\n",
      "dx: \n",
      "[ 0.15549718  0.20803674 -0.32668167  0.30597259]\n",
      "noise:\n",
      "[-0.01657248  0.23241078 -0.12618576  0.09674759]\n",
      "\n",
      "i = 10\n",
      "starting state:\n",
      "[-0.01657248  0.23241078 -0.12618576  0.09674759]\n",
      "dx: \n",
      "[-0.10762816  0.00642385  0.2335901  -0.01744902]\n",
      "noise:\n",
      "[-0.12420064  0.23883462  0.10740434  0.07929857]\n",
      "\n",
      "i = 11\n",
      "starting state:\n",
      "[-0.12420064  0.23883462  0.10740434  0.07929857]\n",
      "dx: \n",
      "[ 0.10350073 -0.26085714  0.15852766  0.15682721]\n",
      "noise:\n",
      "[-0.02069991 -0.02202251  0.265932    0.23612578]\n",
      "\n",
      "i = 12\n",
      "starting state:\n",
      "[-0.02069991 -0.02202251  0.265932    0.23612578]\n",
      "dx: \n",
      "[-0.10351823  0.24026368 -0.18675459  0.07434427]\n",
      "noise:\n",
      "[-0.12421814  0.21824117  0.07917742  0.31047005]\n",
      "\n",
      "i = 13\n",
      "starting state:\n",
      "[-0.12421814  0.21824117  0.07917742  0.31047005]\n",
      "dx: \n",
      "[ 0.24524942 -0.18675255  0.03564276 -0.37907154]\n",
      "noise:\n",
      "[ 0.12103128  0.03148862  0.11482018 -0.06860148]\n",
      "\n",
      "i = 14\n",
      "starting state:\n",
      "[ 0.12103128  0.03148862  0.11482018 -0.06860148]\n",
      "dx: \n",
      "[ 0.09544234 -0.08055417 -0.16376199  0.05862381]\n",
      "noise:\n",
      "[ 0.21647361 -0.04906555 -0.04894181 -0.00997767]\n",
      "\n",
      "i = 15\n",
      "starting state:\n",
      "[ 0.21647361 -0.04906555 -0.04894181 -0.00997767]\n",
      "dx: \n",
      "[ 0.07513484 -0.16775861  0.17179372  0.01864681]\n",
      "noise:\n",
      "[ 0.29160845 -0.21682416  0.1228519   0.00866914]\n",
      "\n",
      "i = 16\n",
      "starting state:\n",
      "[ 0.29160845 -0.21682416  0.1228519   0.00866914]\n",
      "dx: \n",
      "[-0.20910282  0.18201655 -0.11302926 -0.15671988]\n",
      "noise:\n",
      "[ 0.08250563 -0.03480761  0.00982265 -0.14805074]\n",
      "\n",
      "i = 17\n",
      "starting state:\n",
      "[ 0.08250563 -0.03480761  0.00982265 -0.14805074]\n",
      "dx: \n",
      "[-0.04092206 -0.20366464  0.01709883 -0.09259698]\n",
      "noise:\n",
      "[ 0.04158356 -0.23847225  0.02692147 -0.24064772]\n",
      "\n",
      "i = 18\n",
      "starting state:\n",
      "[ 0.04158356 -0.23847225  0.02692147 -0.24064772]\n",
      "dx: \n",
      "[ 0.19093105  0.2008839   0.21146376  0.10336592]\n",
      "noise:\n",
      "[ 0.23251461 -0.03758835  0.23838524 -0.1372818 ]\n",
      "\n",
      "i = 19\n",
      "starting state:\n",
      "[ 0.23251461 -0.03758835  0.23838524 -0.1372818 ]\n",
      "dx: \n",
      "[-0.00674381 -0.0207475  -0.297823    0.12114519]\n",
      "noise:\n",
      "[ 0.22577081 -0.05833585 -0.05943776 -0.01613661]\n"
     ]
    }
   ],
   "source": [
    "agent.reset()\n",
    "print('state: ')\n",
    "print(agent.noise.state)\n",
    "st = copy.copy(agent.noise.mu)\n",
    "for i in range(20):\n",
    "    a = .5 * (agent.noise.mu - st)\n",
    "    b = 0.5 * np.array([random.random()-0.5 for i in range(4)])\n",
    "    print('\\ni = {}'.format(i))\n",
    "    print('starting state:')\n",
    "    print(st)\n",
    "    print('dx: ')\n",
    "    print(a + b)\n",
    "    print('noise:')\n",
    "    print(st+ a+ b)\n",
    "    st += a+ b\n",
    "    \n",
    "    "
   ]
  },
  {
   "cell_type": "code",
   "execution_count": 64,
   "metadata": {},
   "outputs": [
    {
     "data": {
      "text/plain": [
       "0.2"
      ]
     },
     "execution_count": 64,
     "metadata": {},
     "output_type": "execute_result"
    }
   ],
   "source": [
    "agent.noise.sigma"
   ]
  },
  {
   "cell_type": "code",
   "execution_count": 73,
   "metadata": {},
   "outputs": [
    {
     "data": {
      "text/plain": [
       "array([ 0.,  0.,  0.,  0.])"
      ]
     },
     "execution_count": 73,
     "metadata": {},
     "output_type": "execute_result"
    }
   ],
   "source": [
    "agent.noise.mu"
   ]
  },
  {
   "cell_type": "code",
   "execution_count": null,
   "metadata": {},
   "outputs": [],
   "source": []
  }
 ],
 "metadata": {
  "kernelspec": {
   "display_name": "Python 3",
   "language": "python",
   "name": "python3"
  },
  "language_info": {
   "codemirror_mode": {
    "name": "ipython",
    "version": 3
   },
   "file_extension": ".py",
   "mimetype": "text/x-python",
   "name": "python",
   "nbconvert_exporter": "python",
   "pygments_lexer": "ipython3",
   "version": "3.6.3"
  }
 },
 "nbformat": 4,
 "nbformat_minor": 2
}
