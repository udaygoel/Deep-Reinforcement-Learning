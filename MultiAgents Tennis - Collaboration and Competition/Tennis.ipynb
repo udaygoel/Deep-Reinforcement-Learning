{
 "cells": [
  {
   "cell_type": "markdown",
   "metadata": {},
   "source": [
    "# Collaboration and Competition\n",
    "\n",
    "---\n",
    "\n",
    "You are welcome to use this coding environment to train your agent for the project.  Follow the instructions below to get started!\n",
    "\n",
    "### 1. Start the Environment\n",
    "\n",
    "Run the next code cell to install a few packages.  This line will take a few minutes to run!"
   ]
  },
  {
   "cell_type": "code",
   "execution_count": 1,
   "metadata": {},
   "outputs": [
    {
     "name": "stdout",
     "output_type": "stream",
     "text": [
      "\u001b[31mtensorflow 1.7.1 has requirement numpy>=1.13.3, but you'll have numpy 1.12.1 which is incompatible.\u001b[0m\r\n",
      "\u001b[31mipython 6.5.0 has requirement prompt-toolkit<2.0.0,>=1.0.15, but you'll have prompt-toolkit 3.0.8 which is incompatible.\u001b[0m\r\n"
     ]
    }
   ],
   "source": [
    "!pip -q install ./python"
   ]
  },
  {
   "cell_type": "markdown",
   "metadata": {},
   "source": [
    "The environment is already saved in the Workspace and can be accessed at the file path provided below. "
   ]
  },
  {
   "cell_type": "code",
   "execution_count": 2,
   "metadata": {},
   "outputs": [
    {
     "name": "stderr",
     "output_type": "stream",
     "text": [
      "INFO:unityagents:\n",
      "'Academy' started successfully!\n",
      "Unity Academy name: Academy\n",
      "        Number of Brains: 1\n",
      "        Number of External Brains : 1\n",
      "        Lesson number : 0\n",
      "        Reset Parameters :\n",
      "\t\t\n",
      "Unity brain name: TennisBrain\n",
      "        Number of Visual Observations (per agent): 0\n",
      "        Vector Observation space type: continuous\n",
      "        Vector Observation space size (per agent): 8\n",
      "        Number of stacked Vector Observation: 3\n",
      "        Vector Action space type: continuous\n",
      "        Vector Action space size (per agent): 2\n",
      "        Vector Action descriptions: , \n"
     ]
    }
   ],
   "source": [
    "from unityagents import UnityEnvironment\n",
    "import numpy as np\n",
    "\n",
    "env = UnityEnvironment(file_name=\"/data/Tennis_Linux_NoVis/Tennis\")"
   ]
  },
  {
   "cell_type": "markdown",
   "metadata": {},
   "source": [
    "Environments contain **_brains_** which are responsible for deciding the actions of their associated agents. Here we check for the first brain available, and set it as the default brain we will be controlling from Python."
   ]
  },
  {
   "cell_type": "code",
   "execution_count": 3,
   "metadata": {},
   "outputs": [],
   "source": [
    "# get the default brain\n",
    "brain_name = env.brain_names[0]\n",
    "brain = env.brains[brain_name]"
   ]
  },
  {
   "cell_type": "markdown",
   "metadata": {},
   "source": [
    "### 2. Examine the State and Action Spaces\n",
    "\n",
    "Run the code cell below to print some information about the environment."
   ]
  },
  {
   "cell_type": "code",
   "execution_count": 4,
   "metadata": {},
   "outputs": [
    {
     "name": "stdout",
     "output_type": "stream",
     "text": [
      "Number of agents: 2\n",
      "Size of each action: 2\n",
      "There are 2 agents. Each observes a state with length: 24\n",
      "The state for the first agent looks like: [ 0.          0.          0.          0.          0.          0.          0.\n",
      "  0.          0.          0.          0.          0.          0.          0.\n",
      "  0.          0.         -6.65278625 -1.5        -0.          0.\n",
      "  6.83172083  6.         -0.          0.        ]\n",
      "The type of the state is:  <class 'numpy.ndarray'>\n"
     ]
    }
   ],
   "source": [
    "# reset the environment\n",
    "env_info = env.reset(train_mode=True)[brain_name]\n",
    "\n",
    "# number of agents \n",
    "num_agents = len(env_info.agents)\n",
    "print('Number of agents:', num_agents)\n",
    "\n",
    "# size of each action\n",
    "action_size = brain.vector_action_space_size\n",
    "print('Size of each action:', action_size)\n",
    "\n",
    "# examine the state space \n",
    "states = env_info.vector_observations\n",
    "state_size = states.shape[1]\n",
    "print('There are {} agents. Each observes a state with length: {}'.format(states.shape[0], state_size))\n",
    "print('The state for the first agent looks like:', states[0])\n",
    "print('The type of the state is: ', type(states[0]))"
   ]
  },
  {
   "cell_type": "markdown",
   "metadata": {},
   "source": [
    "### 3. Take Random Actions in the Environment\n",
    "\n",
    "In the next code cell, you will learn how to use the Python API to control the agent and receive feedback from the environment.\n",
    "\n",
    "Note that **in this coding environment, you will not be able to watch the agents while they are training**, and you should set `train_mode=True` to restart the environment."
   ]
  },
  {
   "cell_type": "code",
   "execution_count": 5,
   "metadata": {},
   "outputs": [
    {
     "name": "stdout",
     "output_type": "stream",
     "text": [
      "Total score (averaged over agents) this episode: -0.004999999888241291\n",
      "Total score (averaged over agents) this episode: 0.04500000085681677\n",
      "Total score (averaged over agents) this episode: -0.004999999888241291\n",
      "Total score (averaged over agents) this episode: -0.004999999888241291\n",
      "Total score (averaged over agents) this episode: -0.004999999888241291\n"
     ]
    }
   ],
   "source": [
    "for i in range(5):                                         # play game for 5 episodes\n",
    "    env_info = env.reset(train_mode=False)[brain_name]     # reset the environment    \n",
    "    states = env_info.vector_observations                  # get the current state (for each agent)\n",
    "    scores = np.zeros(num_agents)                          # initialize the score (for each agent)\n",
    "    while True:\n",
    "        actions = np.random.randn(num_agents, action_size) # select an action (for each agent)\n",
    "        actions = np.clip(actions, -1, 1)                  # all actions between -1 and 1\n",
    "        env_info = env.step(actions)[brain_name]           # send all actions to tne environment\n",
    "        next_states = env_info.vector_observations         # get next state (for each agent)\n",
    "        rewards = env_info.rewards                         # get reward (for each agent)\n",
    "        dones = env_info.local_done                        # see if episode finished\n",
    "        scores += env_info.rewards                         # update the score (for each agent)\n",
    "        states = next_states                               # roll over states to next time step\n",
    "        if np.any(dones):                                  # exit loop if episode finished\n",
    "            break\n",
    "    print('Total score (averaged over agents) this episode: {}'.format(np.mean(scores)))"
   ]
  },
  {
   "cell_type": "markdown",
   "metadata": {},
   "source": [
    "### 4. It's Your Turn!\n",
    "\n",
    "Now it's your turn to train your own agent to solve the environment!  A few **important notes**:\n",
    "- When training the environment, set `train_mode=True`, so that the line for resetting the environment looks like the following:\n",
    "```python\n",
    "env_info = env.reset(train_mode=True)[brain_name]\n",
    "```\n",
    "- To structure your work, you're welcome to work directly in this Jupyter notebook, or you might like to start over with a new file!  You can see the list of files in the workspace by clicking on **_Jupyter_** in the top left corner of the notebook.\n",
    "- In this coding environment, you will not be able to watch the agents while they are training.  However, **_after training the agents_**, you can download the saved model weights to watch the agents on your own machine! "
   ]
  },
  {
   "cell_type": "markdown",
   "metadata": {},
   "source": [
    "### 4.a Understanding the data, data types and shapes\n",
    "\n",
    "We have multiple agents here, each with their own state values. The state of one agent cannot be used by the other to take actions and so we need to keep the respective states separate. This will drive the design of the memory additions and sampling. To illustrate this, we compare the game of tennis with tic-tac-toe. In case of tennis, each agent is restricted to move in their respective space range. The neural network for the agent on the left learns different actions for the ball in the left tennis court vs the ball in the right tennis court. It would also act different depending on the direction of travel of the ball. As a result, the state observed by the agent on the right court, cannot be fed to the network of the agent on the left court. In Tic-Tac-Toe, the state is interchangeable and the two agents can hence, share the states from the memory. \n",
    "\n",
    "Below I have run some cells to understand the shape and type of the data used in the training of the agent."
   ]
  },
  {
   "cell_type": "code",
   "execution_count": 7,
   "metadata": {},
   "outputs": [],
   "source": [
    "import torch"
   ]
  },
  {
   "cell_type": "code",
   "execution_count": 8,
   "metadata": {},
   "outputs": [
    {
     "data": {
      "text/plain": [
       "array([[ 0.        ,  0.        ,  0.        ,  0.        ,  0.        ,\n",
       "         0.        ,  0.        ,  0.        ,  0.        ,  0.        ,\n",
       "         0.        ,  0.        ,  0.        ,  0.        ,  0.        ,\n",
       "         0.        , -6.14030886, -1.5       , -0.        ,  0.        ,\n",
       "        -7.11741829,  6.        , -0.        ,  0.        ],\n",
       "       [ 0.        ,  0.        ,  0.        ,  0.        ,  0.        ,\n",
       "         0.        ,  0.        ,  0.        ,  0.        ,  0.        ,\n",
       "         0.        ,  0.        ,  0.        ,  0.        ,  0.        ,\n",
       "         0.        , -7.9574213 , -1.5       ,  0.        ,  0.        ,\n",
       "         7.11741829,  6.        ,  0.        ,  0.        ]])"
      ]
     },
     "execution_count": 8,
     "metadata": {},
     "output_type": "execute_result"
    }
   ],
   "source": [
    "# States\n",
    "states"
   ]
  },
  {
   "cell_type": "code",
   "execution_count": 9,
   "metadata": {},
   "outputs": [
    {
     "data": {
      "text/plain": [
       "array([[-1., -1., -1., -1., -1., -1., -1., -1., -1., -1., -1., -1., -1.,\n",
       "        -1., -1., -1., -1., -1., -1., -1., -1., -1., -1., -1.],\n",
       "       [ 1.,  1.,  1.,  1.,  1.,  1.,  1.,  1.,  1.,  1.,  1.,  1.,  1.,\n",
       "         1.,  1.,  1.,  1.,  1.,  1.,  1.,  1.,  1.,  1.,  1.]])"
      ]
     },
     "execution_count": 9,
     "metadata": {},
     "output_type": "execute_result"
    }
   ],
   "source": [
    "# creating dummy state with negative value for agent1 and positive value for agent2\n",
    "dum_state = np.array([np.ones(states[0].shape) * -1, np.ones(states[1].shape) * 1])\n",
    "\n",
    "dum_state"
   ]
  },
  {
   "cell_type": "code",
   "execution_count": 10,
   "metadata": {},
   "outputs": [
    {
     "data": {
      "text/plain": [
       "tensor([[[-1., -1., -1., -1., -1., -1., -1., -1., -1., -1., -1.,\n",
       "          -1., -1., -1., -1., -1., -1., -1., -1., -1., -1., -1.,\n",
       "          -1., -1.],\n",
       "         [ 1.,  1.,  1.,  1.,  1.,  1.,  1.,  1.,  1.,  1.,  1.,\n",
       "           1.,  1.,  1.,  1.,  1.,  1.,  1.,  1.,  1.,  1.,  1.,\n",
       "           1.,  1.]],\n",
       "\n",
       "        [[-2., -2., -2., -2., -2., -2., -2., -2., -2., -2., -2.,\n",
       "          -2., -2., -2., -2., -2., -2., -2., -2., -2., -2., -2.,\n",
       "          -2., -2.],\n",
       "         [ 2.,  2.,  2.,  2.,  2.,  2.,  2.,  2.,  2.,  2.,  2.,\n",
       "           2.,  2.,  2.,  2.,  2.,  2.,  2.,  2.,  2.,  2.,  2.,\n",
       "           2.,  2.]]], dtype=torch.float64)"
      ]
     },
     "execution_count": 10,
     "metadata": {},
     "output_type": "execute_result"
    }
   ],
   "source": [
    "# Creating the desired shape from memory sample function\n",
    "\n",
    "dum_state2 = dum_state*2\n",
    "\n",
    "dum_states_sample = torch.from_numpy(np.vstack([[dum_state], [dum_state2]]))\n",
    "dum_states_sample"
   ]
  },
  {
   "cell_type": "code",
   "execution_count": 11,
   "metadata": {},
   "outputs": [
    {
     "data": {
      "text/plain": [
       "tensor([[[-1., -1., -1., -1., -1., -1., -1., -1., -1., -1., -1.,\n",
       "          -1., -1., -1., -1., -1., -1., -1., -1., -1., -1., -1.,\n",
       "          -1., -1.],\n",
       "         [ 1.,  1.,  1.,  1.,  1.,  1.,  1.,  1.,  1.,  1.,  1.,\n",
       "           1.,  1.,  1.,  1.,  1.,  1.,  1.,  1.,  1.,  1.,  1.,\n",
       "           1.,  1.]],\n",
       "\n",
       "        [[-2., -2., -2., -2., -2., -2., -2., -2., -2., -2., -2.,\n",
       "          -2., -2., -2., -2., -2., -2., -2., -2., -2., -2., -2.,\n",
       "          -2., -2.],\n",
       "         [ 2.,  2.,  2.,  2.,  2.,  2.,  2.,  2.,  2.,  2.,  2.,\n",
       "           2.,  2.,  2.,  2.,  2.,  2.,  2.,  2.,  2.,  2.,  2.,\n",
       "           2.,  2.]]], dtype=torch.float64)"
      ]
     },
     "execution_count": 11,
     "metadata": {},
     "output_type": "execute_result"
    }
   ],
   "source": [
    "# Another method\n",
    "dum_states_sample2 = torch.from_numpy(np.array([dum_state, dum_state2]))\n",
    "dum_states_sample2"
   ]
  },
  {
   "cell_type": "code",
   "execution_count": 12,
   "metadata": {},
   "outputs": [
    {
     "name": "stdout",
     "output_type": "stream",
     "text": [
      "torch.Size([2, 2, 24])\n",
      "Agent1 states sample:  tensor([[-1., -1., -1., -1., -1., -1., -1., -1., -1., -1., -1., -1.,\n",
      "         -1., -1., -1., -1., -1., -1., -1., -1., -1., -1., -1., -1.],\n",
      "        [-2., -2., -2., -2., -2., -2., -2., -2., -2., -2., -2., -2.,\n",
      "         -2., -2., -2., -2., -2., -2., -2., -2., -2., -2., -2., -2.]], dtype=torch.float64)\n",
      "Agent2 states sample:  tensor([[ 1.,  1.,  1.,  1.,  1.,  1.,  1.,  1.,  1.,  1.,  1.,  1.,\n",
      "          1.,  1.,  1.,  1.,  1.,  1.,  1.,  1.,  1.,  1.,  1.,  1.],\n",
      "        [ 2.,  2.,  2.,  2.,  2.,  2.,  2.,  2.,  2.,  2.,  2.,  2.,\n",
      "          2.,  2.,  2.,  2.,  2.,  2.,  2.,  2.,  2.,  2.,  2.,  2.]], dtype=torch.float64)\n"
     ]
    }
   ],
   "source": [
    "# Retrieving states for each agent for actor network\n",
    "\n",
    "print(dum_states_sample.shape)\n",
    "\n",
    "# dum_states_sample shape is (num_states, num_agents, state_size)\n",
    "\n",
    "agent1_states_sample = dum_states_sample[:, 0,:]\n",
    "print('Agent1 states sample: ', agent1_states_sample)\n",
    "\n",
    "agent2_states_sample = dum_states_sample[:, 1,:]\n",
    "print('Agent2 states sample: ', agent2_states_sample)"
   ]
  },
  {
   "cell_type": "code",
   "execution_count": 13,
   "metadata": {},
   "outputs": [
    {
     "data": {
      "text/plain": [
       "tensor([[-1., -1., -1., -1., -1., -1., -1., -1., -1., -1., -1., -1.,\n",
       "         -1., -1., -1., -1., -1., -1., -1., -1., -1., -1., -1., -1.,\n",
       "          1.,  1.,  1.,  1.,  1.,  1.,  1.,  1.,  1.,  1.,  1.,  1.,\n",
       "          1.,  1.,  1.,  1.,  1.,  1.,  1.,  1.,  1.,  1.,  1.,  1.],\n",
       "        [-2., -2., -2., -2., -2., -2., -2., -2., -2., -2., -2., -2.,\n",
       "         -2., -2., -2., -2., -2., -2., -2., -2., -2., -2., -2., -2.,\n",
       "          2.,  2.,  2.,  2.,  2.,  2.,  2.,  2.,  2.,  2.,  2.,  2.,\n",
       "          2.,  2.,  2.,  2.,  2.,  2.,  2.,  2.,  2.,  2.,  2.,  2.]], dtype=torch.float64)"
      ]
     },
     "execution_count": 13,
     "metadata": {},
     "output_type": "execute_result"
    }
   ],
   "source": [
    "# Retrieving states for each agent for critic network\n",
    "critic_states = dum_states_sample.reshape(dum_states_sample.shape[0], -1)\n",
    "critic_states"
   ]
  },
  {
   "cell_type": "code",
   "execution_count": 14,
   "metadata": {},
   "outputs": [
    {
     "data": {
      "text/plain": [
       "array([[ 0.11813384, -1.        ],\n",
       "       [ 0.4610506 , -0.56836063]])"
      ]
     },
     "execution_count": 14,
     "metadata": {},
     "output_type": "execute_result"
    }
   ],
   "source": [
    "# Actions\n",
    "actions"
   ]
  },
  {
   "cell_type": "code",
   "execution_count": 15,
   "metadata": {},
   "outputs": [
    {
     "data": {
      "text/plain": [
       "tensor([[[ 0.1181, -1.0000],\n",
       "         [ 0.4611, -0.5684]],\n",
       "\n",
       "        [[-0.1181,  1.0000],\n",
       "         [-0.4611,  0.5684]]], dtype=torch.float64)"
      ]
     },
     "execution_count": 15,
     "metadata": {},
     "output_type": "execute_result"
    }
   ],
   "source": [
    "# Creating the desired shape from memory sample function\n",
    "\n",
    "actions2 = actions * -1\n",
    "\n",
    "dum_actions_sample = torch.from_numpy(np.vstack([[actions], [actions2]]))\n",
    "dum_actions_sample"
   ]
  },
  {
   "cell_type": "code",
   "execution_count": 16,
   "metadata": {},
   "outputs": [
    {
     "data": {
      "text/plain": [
       "tensor([[[ 0.1181, -1.0000],\n",
       "         [ 0.4611, -0.5684]],\n",
       "\n",
       "        [[-0.1181,  1.0000],\n",
       "         [-0.4611,  0.5684]]], dtype=torch.float64)"
      ]
     },
     "execution_count": 16,
     "metadata": {},
     "output_type": "execute_result"
    }
   ],
   "source": [
    "# Another method\n",
    "dum_actions_sample2 = torch.from_numpy(np.array([actions, actions2]))\n",
    "dum_actions_sample2"
   ]
  },
  {
   "cell_type": "code",
   "execution_count": 17,
   "metadata": {},
   "outputs": [
    {
     "data": {
      "text/plain": [
       "tensor([[ 0.1181, -1.0000,  0.4611, -0.5684],\n",
       "        [-0.1181,  1.0000, -0.4611,  0.5684]], dtype=torch.float64)"
      ]
     },
     "execution_count": 17,
     "metadata": {},
     "output_type": "execute_result"
    }
   ],
   "source": [
    "# Retrieving actions to feed the critic network\n",
    "critic_actions = dum_actions_sample.reshape(dum_actions_sample.shape[0],-1)\n",
    "critic_actions"
   ]
  },
  {
   "cell_type": "code",
   "execution_count": 18,
   "metadata": {},
   "outputs": [
    {
     "data": {
      "text/plain": [
       "tensor([[-1.0000, -1.0000, -1.0000, -1.0000, -1.0000, -1.0000, -1.0000,\n",
       "         -1.0000, -1.0000, -1.0000, -1.0000, -1.0000, -1.0000, -1.0000,\n",
       "         -1.0000, -1.0000, -1.0000, -1.0000, -1.0000, -1.0000, -1.0000,\n",
       "         -1.0000, -1.0000, -1.0000,  1.0000,  1.0000,  1.0000,  1.0000,\n",
       "          1.0000,  1.0000,  1.0000,  1.0000,  1.0000,  1.0000,  1.0000,\n",
       "          1.0000,  1.0000,  1.0000,  1.0000,  1.0000,  1.0000,  1.0000,\n",
       "          1.0000,  1.0000,  1.0000,  1.0000,  1.0000,  1.0000,  0.1181,\n",
       "         -1.0000,  0.4611, -0.5684],\n",
       "        [-2.0000, -2.0000, -2.0000, -2.0000, -2.0000, -2.0000, -2.0000,\n",
       "         -2.0000, -2.0000, -2.0000, -2.0000, -2.0000, -2.0000, -2.0000,\n",
       "         -2.0000, -2.0000, -2.0000, -2.0000, -2.0000, -2.0000, -2.0000,\n",
       "         -2.0000, -2.0000, -2.0000,  2.0000,  2.0000,  2.0000,  2.0000,\n",
       "          2.0000,  2.0000,  2.0000,  2.0000,  2.0000,  2.0000,  2.0000,\n",
       "          2.0000,  2.0000,  2.0000,  2.0000,  2.0000,  2.0000,  2.0000,\n",
       "          2.0000,  2.0000,  2.0000,  2.0000,  2.0000,  2.0000, -0.1181,\n",
       "          1.0000, -0.4611,  0.5684]], dtype=torch.float64)"
      ]
     },
     "execution_count": 18,
     "metadata": {},
     "output_type": "execute_result"
    }
   ],
   "source": [
    "# Testing concatenate of states and actions inside the critic forward function\n",
    "torch.cat((critic_states, critic_actions), dim=1)"
   ]
  },
  {
   "cell_type": "code",
   "execution_count": 19,
   "metadata": {},
   "outputs": [
    {
     "data": {
      "text/plain": [
       "[0.0, -0.009999999776482582]"
      ]
     },
     "execution_count": 19,
     "metadata": {},
     "output_type": "execute_result"
    }
   ],
   "source": [
    "# Rewards\n",
    "rewards"
   ]
  },
  {
   "cell_type": "code",
   "execution_count": 20,
   "metadata": {},
   "outputs": [
    {
     "data": {
      "text/plain": [
       "tensor([[ 0.0000, -0.0100],\n",
       "        [ 1.0000,  1.0000]], dtype=torch.float64)"
      ]
     },
     "execution_count": 20,
     "metadata": {},
     "output_type": "execute_result"
    }
   ],
   "source": [
    "# Creating desired shape\n",
    "rewards_sample = torch.from_numpy(np.vstack([rewards, [1, 1]]))\n",
    "rewards_sample"
   ]
  },
  {
   "cell_type": "code",
   "execution_count": 21,
   "metadata": {},
   "outputs": [
    {
     "name": "stdout",
     "output_type": "stream",
     "text": [
      "rewards for agent 0: \n",
      "tensor([ 0.,  1.], dtype=torch.float64)\n",
      "\n",
      "rewards for agent 1: \n",
      "tensor([-0.0100,  1.0000], dtype=torch.float64)\n"
     ]
    }
   ],
   "source": [
    "# Retrieving rewards for each agent\n",
    "print('rewards for agent 0: ')\n",
    "print(rewards_sample[:,0])\n",
    "\n",
    "print('\\nrewards for agent 1: ')\n",
    "print(rewards_sample[:,1])"
   ]
  },
  {
   "cell_type": "code",
   "execution_count": 22,
   "metadata": {},
   "outputs": [
    {
     "data": {
      "text/plain": [
       "tensor(1.00000e-03 *\n",
       "       [[ 0.0000],\n",
       "        [-10.0000]], dtype=torch.float64)"
      ]
     },
     "execution_count": 22,
     "metadata": {},
     "output_type": "execute_result"
    }
   ],
   "source": [
    "rewards_sample[:1].reshape(rewards_sample.shape[0],1)"
   ]
  },
  {
   "cell_type": "code",
   "execution_count": 23,
   "metadata": {},
   "outputs": [
    {
     "data": {
      "text/plain": [
       "[True, True]"
      ]
     },
     "execution_count": 23,
     "metadata": {},
     "output_type": "execute_result"
    }
   ],
   "source": [
    "# Dones\n",
    "dones"
   ]
  },
  {
   "cell_type": "code",
   "execution_count": 24,
   "metadata": {},
   "outputs": [
    {
     "data": {
      "text/plain": [
       "tensor([[ 1,  1],\n",
       "        [ 0,  1]], dtype=torch.uint8)"
      ]
     },
     "execution_count": 24,
     "metadata": {},
     "output_type": "execute_result"
    }
   ],
   "source": [
    "# Creating desired shape\n",
    "dones_sample = torch.from_numpy(np.vstack([dones, [False, True]]).astype(np.uint8))\n",
    "dones_sample"
   ]
  },
  {
   "cell_type": "code",
   "execution_count": 25,
   "metadata": {},
   "outputs": [
    {
     "name": "stdout",
     "output_type": "stream",
     "text": [
      "dones for agent 0: \n",
      "tensor([ 1,  0], dtype=torch.uint8)\n",
      "\n",
      "dones for agent 1: \n",
      "tensor([ 1,  1], dtype=torch.uint8)\n"
     ]
    }
   ],
   "source": [
    "# Retrieving dones for each agent\n",
    "print('dones for agent 0: ')\n",
    "print(dones_sample[:,0])\n",
    "\n",
    "print('\\ndones for agent 1: ')\n",
    "print(dones_sample[:,1])"
   ]
  },
  {
   "cell_type": "markdown",
   "metadata": {},
   "source": [
    "### 4.b Train the Agent with MADDPG\n",
    "The MADDPG algorithm is used to train the agent"
   ]
  },
  {
   "cell_type": "code",
   "execution_count": 26,
   "metadata": {},
   "outputs": [],
   "source": [
    "import torch\n",
    "from collections import deque\n",
    "import matplotlib.pyplot as plt\n",
    "%matplotlib inline\n",
    "\n",
    "from workspace_utils import active_session   # keep session active\n",
    "\n",
    "import time"
   ]
  },
  {
   "cell_type": "code",
   "execution_count": 27,
   "metadata": {},
   "outputs": [],
   "source": [
    "#from maddpg_agent import MultiAgent\n",
    "import maddpg_agent"
   ]
  },
  {
   "cell_type": "code",
   "execution_count": 81,
   "metadata": {},
   "outputs": [
    {
     "data": {
      "text/plain": [
       "<module 'maddpg_agent' from '/home/workspace/maddpg_agent.py'>"
      ]
     },
     "execution_count": 81,
     "metadata": {},
     "output_type": "execute_result"
    }
   ],
   "source": [
    "import importlib\n",
    "importlib.reload(maddpg_agent)"
   ]
  },
  {
   "cell_type": "code",
   "execution_count": 28,
   "metadata": {},
   "outputs": [],
   "source": [
    "# instantiate the Agents\n",
    "agents = maddpg_agent.MultiAgent(state_size=state_size, action_size=action_size, num_multi_agents=num_agents, seed=2)"
   ]
  },
  {
   "cell_type": "code",
   "execution_count": 29,
   "metadata": {},
   "outputs": [],
   "source": [
    "# Run the algorithm\n",
    "\n",
    "def maddpg(n_episodes=5000, print_every=100, reset_time=100):\n",
    "    \"\"\"Multi_Agent Deep Deterministic Policy Gradient for N agents\n",
    "    \n",
    "    Params\n",
    "    ======\n",
    "        n_episodes (int): maximum number of training episodes\n",
    "        print_every (int): number of episodes after which to print the score\n",
    "        reset_time (int): the number of steps before the agents are reset\n",
    "    \"\"\"\n",
    "    \n",
    "    scores_deque = deque(maxlen=print_every)\n",
    "    scores = []\n",
    "    avg_scores = []\n",
    "    \n",
    "    for i_episode in range(1, n_episodes+1):\n",
    "        env_info = env.reset(train_mode=True)[brain_name]\n",
    "        states = env_info.vector_observations\n",
    "        score = np.zeros(num_agents)\n",
    "        agents.reset()\n",
    "        \n",
    "        t = 1\n",
    "        \n",
    "        while True:\n",
    "            \n",
    "            if t % reset_time == 0:\n",
    "                agents.reset()\n",
    "            t += 1\n",
    "            \n",
    "            actions = agents.act(states)\n",
    "            env_info = env.step(actions)[brain_name]\n",
    "            next_states = env_info.vector_observations\n",
    "            rewards = env_info.rewards\n",
    "            dones = env_info.local_done\n",
    "            \n",
    "            agents.step(states, actions, rewards, next_states, dones)\n",
    "            \n",
    "            states = next_states\n",
    "            score += rewards\n",
    "            \n",
    "            if np.any(dones):\n",
    "                break\n",
    "                \n",
    "        max_score = np.max(score)\n",
    "        scores_deque.append(max_score)\n",
    "        scores.append(max_score)\n",
    "        average_score = np.mean(scores_deque)\n",
    "        avg_scores.append(average_score)\n",
    "        \n",
    "        print('\\rEpisode {}\\tAverage Score: {:.2f}\\tLast Episode Score: {:.2f}'.format(i_episode, average_score, max_score), \n",
    "              end = \"\")\n",
    "        \n",
    "        if i_episode % print_every == 0:\n",
    "            print('\\rEpisode {}\\tAverage Score: {:.2f}\\tLast Episode Score: {:.2f}'.format(i_episode, average_score, max_score))\n",
    "        \n",
    "        if average_score >= 0.5:\n",
    "            agents.save_model()\n",
    "            print('\\nEnvironment solved in {:d} episodes!\\tAverage Score: {:.2f}'.format(i_episode, average_score))\n",
    "            break\n",
    "            \n",
    "    return scores, avg_scores\n",
    "\n",
    "\n",
    "        \n"
   ]
  },
  {
   "cell_type": "code",
   "execution_count": 30,
   "metadata": {},
   "outputs": [
    {
     "name": "stdout",
     "output_type": "stream",
     "text": [
      "Episode 100\tAverage Score: 0.00\tLast Episode Score: 0.00\n",
      "Episode 200\tAverage Score: 0.03\tLast Episode Score: 0.00\n",
      "Episode 300\tAverage Score: 0.07\tLast Episode Score: 0.10\n",
      "Episode 400\tAverage Score: 0.10\tLast Episode Score: 0.00\n",
      "Episode 500\tAverage Score: 0.14\tLast Episode Score: 0.40\n",
      "Episode 600\tAverage Score: 0.28\tLast Episode Score: 0.50\n",
      "Episode 700\tAverage Score: 0.41\tLast Episode Score: 0.10\n",
      "Episode 726\tAverage Score: 0.51\tLast Episode Score: 1.40\n",
      "Environment solved in 726 episodes!\tAverage Score: 0.51\n"
     ]
    }
   ],
   "source": [
    "start = time.time()\n",
    "\n",
    "with active_session():\n",
    "    scores, avg_scores = maddpg()\n",
    "    \n",
    "end = time.time()"
   ]
  },
  {
   "cell_type": "code",
   "execution_count": 31,
   "metadata": {},
   "outputs": [
    {
     "name": "stdout",
     "output_type": "stream",
     "text": [
      "Time taken: 14864 seconds\n"
     ]
    }
   ],
   "source": [
    "print('Time taken: {:.0f} seconds'.format(end-start))"
   ]
  },
  {
   "cell_type": "code",
   "execution_count": 32,
   "metadata": {},
   "outputs": [
    {
     "data": {
      "image/png": "[encoded data removed]",
      "text/plain": [
       "<matplotlib.figure.Figure at 0x7fd46112aac8>"
      ]
     },
     "metadata": {
      "needs_background": "light"
     },
     "output_type": "display_data"
    }
   ],
   "source": [
    "# Plot the scores\n",
    "\n",
    "fig = plt.figure()\n",
    "ax = fig.add_subplot(111)\n",
    "plt.plot(np.arange(1, len(scores)+1), scores, label = 'Scores')\n",
    "plt.plot(np.arange(1, len(avg_scores)+1), avg_scores, c = 'r', label = 'Average Scores')\n",
    "plt.ylabel('Scores')\n",
    "plt.xlabel('Episodes')\n",
    "plt.legend(loc = 'upper left')\n",
    "plt.grid()\n",
    "plt.show()"
   ]
  },
  {
   "cell_type": "markdown",
   "metadata": {},
   "source": [
    "### 5. Watch a Smart Agent\n",
    "We can run the trained agents now on the environment to see how it performs in testing mode"
   ]
  },
  {
   "cell_type": "code",
   "execution_count": 5,
   "metadata": {},
   "outputs": [],
   "source": [
    "from maddpg_agent import MultiAgent\n",
    "\n",
    "# instantiate the Agents\n",
    "trained_agents = MultiAgent(state_size=state_size, action_size=action_size, num_multi_agents=num_agents, seed=2)\n",
    "\n",
    "# Load the model's parameters of each agent\n",
    "trained_agents.load_model()\n"
   ]
  },
  {
   "cell_type": "code",
   "execution_count": 6,
   "metadata": {},
   "outputs": [],
   "source": [
    "from workspace_utils import active_session   # keep session active"
   ]
  },
  {
   "cell_type": "code",
   "execution_count": 7,
   "metadata": {},
   "outputs": [
    {
     "name": "stdout",
     "output_type": "stream",
     "text": [
      "Episode: 1\tScore: 0.20\n",
      "Episode: 2\tScore: 0.20\n",
      "Episode: 3\tScore: 2.60\n",
      "Episode: 4\tScore: 2.70\n",
      "Episode: 5\tScore: 0.60\n",
      "Episode: 6\tScore: 0.30\n",
      "Episode: 7\tScore: 2.60\n",
      "Episode: 8\tScore: 2.70\n",
      "Episode: 9\tScore: 2.60\n",
      "Episode: 10\tScore: 0.40\n",
      "Episode: 11\tScore: 2.60\n",
      "Episode: 12\tScore: 2.70\n",
      "Episode: 13\tScore: 2.60\n",
      "Episode: 14\tScore: 0.40\n",
      "Episode: 15\tScore: 0.50\n",
      "Episode: 16\tScore: 0.20\n",
      "Episode: 17\tScore: 2.60\n",
      "Episode: 18\tScore: 0.10\n",
      "Episode: 19\tScore: 2.60\n",
      "Episode: 20\tScore: 2.70\n",
      "Episode: 21\tScore: 2.60\n",
      "Episode: 22\tScore: 2.70\n",
      "Episode: 23\tScore: 0.60\n",
      "Episode: 24\tScore: 2.60\n",
      "Episode: 25\tScore: 0.30\n",
      "Episode: 26\tScore: 2.60\n",
      "Episode: 27\tScore: 0.00\n",
      "Episode: 28\tScore: 2.60\n",
      "Episode: 29\tScore: 2.70\n",
      "Episode: 30\tScore: 2.60\n",
      "Episode: 31\tScore: 2.70\n",
      "Episode: 32\tScore: 0.50\n",
      "Episode: 33\tScore: 0.20\n",
      "Episode: 34\tScore: 0.39\n",
      "Episode: 35\tScore: 0.20\n",
      "Episode: 36\tScore: 0.30\n",
      "Episode: 37\tScore: 2.60\n",
      "Episode: 38\tScore: 2.70\n",
      "Episode: 39\tScore: 2.60\n",
      "Episode: 40\tScore: 2.70\n",
      "Episode: 41\tScore: 2.70\n",
      "Episode: 42\tScore: 2.60\n",
      "Episode: 43\tScore: 2.70\n",
      "Episode: 44\tScore: 0.00\n",
      "Episode: 45\tScore: 2.60\n",
      "Episode: 46\tScore: 2.70\n",
      "Episode: 47\tScore: 2.70\n",
      "Episode: 48\tScore: 2.60\n",
      "Episode: 49\tScore: 0.50\n",
      "Episode: 50\tScore: 0.30\n",
      "Episode: 51\tScore: 0.10\n",
      "Episode: 52\tScore: 2.60\n",
      "Episode: 53\tScore: 2.70\n",
      "Episode: 54\tScore: 2.60\n",
      "Episode: 55\tScore: 2.70\n",
      "Episode: 56\tScore: 0.30\n",
      "Episode: 57\tScore: 2.60\n",
      "Episode: 58\tScore: 2.70\n",
      "Episode: 59\tScore: 2.60\n",
      "Episode: 60\tScore: 2.70\n",
      "Episode: 61\tScore: 2.70\n",
      "Episode: 62\tScore: 2.60\n",
      "Episode: 63\tScore: 2.60\n",
      "Episode: 64\tScore: 0.50\n",
      "Episode: 65\tScore: 0.10\n",
      "Episode: 66\tScore: 2.60\n",
      "Episode: 67\tScore: 0.50\n",
      "Episode: 68\tScore: 0.50\n",
      "Episode: 69\tScore: 2.60\n",
      "Episode: 70\tScore: 2.60\n",
      "Episode: 71\tScore: 0.30\n",
      "Episode: 72\tScore: 2.60\n",
      "Episode: 73\tScore: 2.70\n",
      "Episode: 74\tScore: 2.60\n",
      "Episode: 75\tScore: 0.30\n",
      "Episode: 76\tScore: 2.60\n",
      "Episode: 77\tScore: 2.70\n",
      "Episode: 78\tScore: 2.70\n",
      "Episode: 79\tScore: 2.60\n",
      "Episode: 80\tScore: 2.70\n",
      "Episode: 81\tScore: 2.70\n",
      "Episode: 82\tScore: 2.60\n",
      "Episode: 83\tScore: 0.10\n",
      "Episode: 84\tScore: 2.60\n",
      "Episode: 85\tScore: 2.70\n",
      "Episode: 86\tScore: 2.60\n",
      "Episode: 87\tScore: 2.70\n",
      "Episode: 88\tScore: 0.50\n",
      "Episode: 89\tScore: 2.60\n",
      "Episode: 90\tScore: 0.60\n",
      "Episode: 91\tScore: 2.60\n",
      "Episode: 92\tScore: 2.70\n",
      "Episode: 93\tScore: 2.70\n",
      "Episode: 94\tScore: 2.60\n",
      "Episode: 95\tScore: 2.70\n",
      "Episode: 96\tScore: 0.00\n",
      "Episode: 97\tScore: 2.60\n",
      "Episode: 98\tScore: 2.70\n",
      "Episode: 99\tScore: 2.70\n",
      "Episode: 100\tScore: 2.60\n",
      "Total average scores over 100 episodes: 1.90\n"
     ]
    }
   ],
   "source": [
    "test_scores = []\n",
    "\n",
    "with active_session():\n",
    "    for i_episode in range(1, 101):\n",
    "        env_info = env.reset(train_mode=False)[brain_name]      # reset the environment    \n",
    "        states = env_info.vector_observations                  # get the current state (for each agent)\n",
    "        score_i = np.zeros(num_agents)                          # initialize the score (for each agent)\n",
    "        while True:\n",
    "            actions = trained_agents.act(states, \n",
    "                                         add_noise=False)      # select an action (for each agent)\n",
    "            env_info = env.step(actions)[brain_name]           # send all actions to the environment\n",
    "            next_states = env_info.vector_observations         # get next state (for each agent)\n",
    "            rewards = env_info.rewards                         # get reward (for each agent)\n",
    "            dones = env_info.local_done                        # see if episode finished\n",
    "            score_i += env_info.rewards                         # update the score (for each agent)\n",
    "            states = next_states                               # roll over states to next time step\n",
    "            if np.any(dones):                                  # exit loop if episode finished\n",
    "                break\n",
    "\n",
    "        print('Episode: {}\\tScore: {:.2f}'.format(i_episode, np.max(score_i)))\n",
    "        test_scores.append(np.max(score_i))\n",
    "print('Total average scores over 100 episodes: {:.2f}'.format(np.mean(test_scores)))"
   ]
  },
  {
   "cell_type": "code",
   "execution_count": 8,
   "metadata": {},
   "outputs": [],
   "source": [
    "import matplotlib.pyplot as plt\n",
    "%matplotlib inline"
   ]
  },
  {
   "cell_type": "code",
   "execution_count": 9,
   "metadata": {},
   "outputs": [
    {
     "data": {
      "image/png": "[encoded data removed]",
      "text/plain": [
       "<matplotlib.figure.Figure at 0x7fc33c079438>"
      ]
     },
     "metadata": {
      "needs_background": "light"
     },
     "output_type": "display_data"
    }
   ],
   "source": [
    "fig = plt.figure()\n",
    "ax = fig.add_subplot(111)\n",
    "plt.plot(np.arange(1, len(test_scores)+1), test_scores)\n",
    "plt.ylabel('Score')\n",
    "plt.xlabel('Episode #')\n",
    "plt.title('Max Score across {} episodes'.format(len(test_scores)), size=14)\n",
    "plt.show()"
   ]
  },
  {
   "cell_type": "markdown",
   "metadata": {},
   "source": [
    "When finished, you can close the environment."
   ]
  },
  {
   "cell_type": "code",
   "execution_count": 6,
   "metadata": {},
   "outputs": [],
   "source": [
    "#env.close()"
   ]
  },
  {
   "cell_type": "code",
   "execution_count": 10,
   "metadata": {},
   "outputs": [
    {
     "name": "stdout",
     "output_type": "stream",
     "text": [
      "Actor(\n",
      "  (fc1): Linear(in_features=24, out_features=256, bias=True)\n",
      "  (batch): BatchNorm1d(256, eps=1e-05, momentum=0.1, affine=True, track_running_stats=True)\n",
      "  (fc2): Linear(in_features=256, out_features=128, bias=True)\n",
      "  (fc3): Linear(in_features=128, out_features=2, bias=True)\n",
      ")\n"
     ]
    }
   ],
   "source": [
    "print(trained_agents.agents[0].actor_local)"
   ]
  },
  {
   "cell_type": "code",
   "execution_count": 11,
   "metadata": {},
   "outputs": [
    {
     "name": "stdout",
     "output_type": "stream",
     "text": [
      "Critic(\n",
      "  (fcs1): Linear(in_features=48, out_features=256, bias=True)\n",
      "  (batch): BatchNorm1d(256, eps=1e-05, momentum=0.1, affine=True, track_running_stats=True)\n",
      "  (fc2): Linear(in_features=260, out_features=128, bias=True)\n",
      "  (fc3): Linear(in_features=128, out_features=1, bias=True)\n",
      ")\n"
     ]
    }
   ],
   "source": [
    "print(trained_agents.agents[0].critic_local)"
   ]
  },
  {
   "cell_type": "code",
   "execution_count": null,
   "metadata": {},
   "outputs": [],
   "source": []
  }
 ],
 "metadata": {
  "kernelspec": {
   "display_name": "Python 3",
   "language": "python",
   "name": "python3"
  },
  "language_info": {
   "codemirror_mode": {
    "name": "ipython",
    "version": 3
   },
   "file_extension": ".py",
   "mimetype": "text/x-python",
   "name": "python",
   "nbconvert_exporter": "python",
   "pygments_lexer": "ipython3",
   "version": "3.6.3"
  }
 },
 "nbformat": 4,
 "nbformat_minor": 2
}
